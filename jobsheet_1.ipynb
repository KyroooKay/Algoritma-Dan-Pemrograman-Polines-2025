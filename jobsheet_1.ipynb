{
  "nbformat": 4,
  "nbformat_minor": 0,
  "metadata": {
    "colab": {
      "provenance": [],
      "authorship_tag": "ABX9TyNgMIjlQqlX45WzQoaTQQKN",
      "include_colab_link": true
    },
    "kernelspec": {
      "name": "python3",
      "display_name": "Python 3"
    },
    "language_info": {
      "name": "python"
    }
  },
  "cells": [
    {
      "cell_type": "markdown",
      "metadata": {
        "id": "view-in-github",
        "colab_type": "text"
      },
      "source": [
        "<a href=\"https://colab.research.google.com/github/KyroooKay/Algoritma-Dan-Pemrograman-Polines-2025/blob/praktikum-1/jobsheet_1.ipynb\" target=\"_parent\"><img src=\"https://colab.research.google.com/assets/colab-badge.svg\" alt=\"Open In Colab\"/></a>"
      ]
    },
    {
      "cell_type": "markdown",
      "source": [
        "1 - Menghitung Luas Segitiga"
      ],
      "metadata": {
        "id": "H6YcKTeOI_Vy"
      }
    },
    {
      "cell_type": "code",
      "source": [
        " p = int(input(\"masukkan panjang:\"))\n",
        " l = int(input(\"masukkan lebar:\"))\n",
        " luas = p*l\n",
        " print(\"luas persegi panjang adalah:\",luas)"
      ],
      "metadata": {
        "id": "rW_eQDhhJBq-"
      },
      "execution_count": null,
      "outputs": []
    },
    {
      "cell_type": "markdown",
      "source": [
        "2 - Menghitung Luas Segitiga (Rumus Heron)"
      ],
      "metadata": {
        "id": "FFEsBeR1JSw4"
      }
    },
    {
      "cell_type": "code",
      "source": [
        "import math\n",
        "\n",
        "a = float(input (\"masukkan nilai a:\"))\n",
        "b = float(input (\"masukkan nilai b:\"))\n",
        "c = float(input (\"masukkan nilai c:\"))\n",
        "\n",
        "s = (a+b+c)/2\n",
        "luas = math.sqrt(s*(s-a)*(s-b)*(s-c))\n",
        "print(\"luas segitiga adalah:\",luas)"
      ],
      "metadata": {
        "id": "p5gOEzM9JUDd"
      },
      "execution_count": null,
      "outputs": []
    },
    {
      "cell_type": "markdown",
      "source": [
        "3 - Konversi Suhu Celcius ke Fahrenheit"
      ],
      "metadata": {
        "id": "-hEg8_J5JWyP"
      }
    },
    {
      "cell_type": "code",
      "source": [
        "c = float(input(\"masukkan suhu celcius:\"))\n",
        "f = (9/5)*c+32\n",
        "print(\"suhu fahrenheit adalah:\",f)"
      ],
      "metadata": {
        "id": "qExZF4Z5JZKa"
      },
      "execution_count": null,
      "outputs": []
    },
    {
      "cell_type": "markdown",
      "source": [
        "4 - Menghitung Umur Berdasarkan Tahun Lahir"
      ],
      "metadata": {
        "id": "J8ZoTI7xJbSH"
      }
    },
    {
      "cell_type": "code",
      "source": [
        "tahunLahir = int(input(\"masukkan tahun lahir:\"))\n",
        "tahunSekarang = 2025\n",
        "umur = tahunSekarang - tahunLahir\n",
        "print(\"umur anda adalah:\",umur,\"tahun\")"
      ],
      "metadata": {
        "id": "xfPD-WjuJgaW"
      },
      "execution_count": null,
      "outputs": []
    },
    {
      "cell_type": "markdown",
      "source": [
        "5 - Menghitung Luas Lingkaran"
      ],
      "metadata": {
        "id": "pODx-6I8JjLj"
      }
    },
    {
      "cell_type": "code",
      "source": [
        "import math\n",
        "r = float(input(\"Masukkan jari-jari lingkaran: \"))\n",
        "luas = math.pi * r * r\n",
        "print(\"Luas lingkaran adalah:\", luas)"
      ],
      "metadata": {
        "id": "K1EFUnxoJlTK"
      },
      "execution_count": null,
      "outputs": []
    },
    {
      "cell_type": "markdown",
      "source": [
        "6 - Menjumlahkan Tiga Bilangan"
      ],
      "metadata": {
        "id": "pS7VWyCtJnan"
      }
    },
    {
      "cell_type": "code",
      "source": [
        "a = int(input(\"Masukkan bilangan pertama:\"))\n",
        "b = int(input(\"Masukkan bilangan kedua: \"))\n",
        "c = int(input(\"Masukkan bilangan ketiga: \"))\n",
        "jumlah = a+b+c\n",
        "print(\"Jumlah =\", jumlah)"
      ],
      "metadata": {
        "id": "jvk5bWFRJpiH"
      },
      "execution_count": null,
      "outputs": []
    },
    {
      "cell_type": "markdown",
      "source": [
        "**PENUGASAN**"
      ],
      "metadata": {
        "id": "3mqlPSaXJwI1"
      }
    },
    {
      "cell_type": "markdown",
      "source": [
        "Menghitung Volume Balok"
      ],
      "metadata": {
        "id": "y6i7yzjFJw--"
      }
    },
    {
      "cell_type": "code",
      "source": [
        "p = int(input(\"Masukkan Panjang:\"))\n",
        "l = int(input(\"Masukkan Lebar:\"))\n",
        "t = int(input(\"Masukkan Tinggi:\"))\n",
        "volume = p * l * t\n",
        "print(\"Volume Balok adalah:\",volume)"
      ],
      "metadata": {
        "id": "KM2g93vIJyYV"
      },
      "execution_count": null,
      "outputs": []
    },
    {
      "cell_type": "markdown",
      "source": [
        "Konversi Waktu (Detik ke Jam, Menit, Detik)"
      ],
      "metadata": {
        "id": "nytf7x0PJ0Lb"
      }
    },
    {
      "cell_type": "code",
      "source": [
        "totalDetik = int(input(\"Masukkan detik:\"))\n",
        "sisaDetik = totalDetik % 60\n",
        "menit = totalDetik // 60\n",
        "detik = sisaDetik % 60\n",
        "jam = totalDetik //3600\n",
        "menit = menit % 60\n",
        "print(\"Konversi Waktu dari\", totalDetik,\"detik adalah\",jam,\"jam\",menit,\"menit\",sisaDetik,\"detik\")"
      ],
      "metadata": {
        "id": "91qY4A4EJ5qr"
      },
      "execution_count": null,
      "outputs": []
    },
    {
      "cell_type": "markdown",
      "source": [
        "Rata-Rata Nilai Tiga Mata Kuliah"
      ],
      "metadata": {
        "id": "T6fEDl2rKAiD"
      }
    },
    {
      "cell_type": "code",
      "source": [
        "a = float(input(\"Nilai Mata Kuliah 1 :\"))\n",
        "b = float(input(\"Nilai Mata Kuliah 2 :\"))\n",
        "c = float(input(\"Nilai Mata Kuliah 3 :\"))\n",
        "rataRata = ( a + b + c ) / 3\n",
        "if rataRata>= 60:\n",
        "    keterangan = \"Lulus\"\n",
        "else:\n",
        "    keterangan = \"Tidak Lulus\"\n",
        "print(\"Rata-rata nilai Anda:\", rataRata)\n",
        "print(\"Keterangan\", keterangan)"
      ],
      "metadata": {
        "id": "WuaaizDEKCEc"
      },
      "execution_count": null,
      "outputs": []
    },
    {
      "cell_type": "markdown",
      "source": [
        "Menghitung Diskon Belanja"
      ],
      "metadata": {
        "id": "YsZNv9DzKExo"
      }
    },
    {
      "cell_type": "code",
      "source": [
        "totalBelanja = float(input(\"Masukkan Total Belanja: Rp.\"))\n",
        "if totalBelanja >= 500000:\n",
        "    diskon = 0.2\n",
        "elif totalBelanja >= 250000:\n",
        "    diskon =  0.1\n",
        "else:\n",
        "    diskon = 0\n",
        "totalBayar = totalBelanja - (totalBelanja * diskon)\n",
        "totalDiskon = totalBelanja * diskon\n",
        "print(\"Total Belanja: Rp.\", totalBelanja)\n",
        "print(\"Diskon: Rp.\", totalDiskon )\n",
        "print(\"Total Setelah Diskon: Rp.\", totalBayar)"
      ],
      "metadata": {
        "id": "WI4c7m9TKGG5"
      },
      "execution_count": null,
      "outputs": []
    }
  ]
}