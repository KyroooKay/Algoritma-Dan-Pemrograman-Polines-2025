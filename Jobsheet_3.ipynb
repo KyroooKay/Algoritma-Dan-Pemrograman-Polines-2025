{
  "nbformat": 4,
  "nbformat_minor": 0,
  "metadata": {
    "colab": {
      "provenance": [],
      "authorship_tag": "ABX9TyODf9sXdIuuiLM+0y1ZpByv",
      "include_colab_link": true
    },
    "kernelspec": {
      "name": "python3",
      "display_name": "Python 3"
    },
    "language_info": {
      "name": "python"
    }
  },
  "cells": [
    {
      "cell_type": "markdown",
      "metadata": {
        "id": "view-in-github",
        "colab_type": "text"
      },
      "source": [
        "<a href=\"https://colab.research.google.com/github/KyroooKay/Algoritma-Dan-Pemrograman-Polines-2025/blob/main/Jobsheet_3.ipynb\" target=\"_parent\"><img src=\"https://colab.research.google.com/assets/colab-badge.svg\" alt=\"Open In Colab\"/></a>"
      ]
    },
    {
      "cell_type": "markdown",
      "source": [
        "**F. Penugasan**"
      ],
      "metadata": {
        "id": "bXM-9j1l_u34"
      }
    },
    {
      "cell_type": "markdown",
      "source": [
        "**Cek Bilangan Positif/Negatif/Nol**"
      ],
      "metadata": {
        "id": "YpVb1q-q_xpn"
      }
    },
    {
      "cell_type": "code",
      "source": [
        "bilangan = int(input(\"Masukkan sebuah bilangan bulat: \"))\n",
        "\n",
        "if bilangan > 0:\n",
        "    print(f\"Bilangan {bilangan} adalah POSITIF.\")\n",
        "elif bilangan < 0:\n",
        "    print(f\"Bilangan {bilangan} adalah NEGATIF.\")\n",
        "else:\n",
        "    print(\"Bilangan tersebut adalah NOL.\")"
      ],
      "metadata": {
        "colab": {
          "base_uri": "https://localhost:8080/"
        },
        "id": "Em8XidZj_4hK",
        "outputId": "8e4babfa-a0bf-44fc-a584-84e9f5dddec0"
      },
      "execution_count": 3,
      "outputs": [
        {
          "output_type": "stream",
          "name": "stdout",
          "text": [
            "Masukkan sebuah bilangan bulat: 10\n",
            "Bilangan 10 adalah POSITIF.\n"
          ]
        }
      ]
    },
    {
      "cell_type": "markdown",
      "source": [
        "**Menentukan kategori usia**"
      ],
      "metadata": {
        "id": "BdBjkZIdBESM"
      }
    },
    {
      "cell_type": "code",
      "source": [
        "umur = int(input(\"Masukkan umur Anda: \"))\n",
        "\n",
        "if umur < 5:\n",
        "    kategori = \"Balita\"\n",
        "elif umur <= 11:\n",
        "    kategori = \"Anak-anak\"\n",
        "elif umur <= 17:\n",
        "    kategori = \"Remaja\"\n",
        "elif umur <= 59:\n",
        "    kategori = \"Dewasa\"\n",
        "else:\n",
        "    kategori = \"Lansia\"\n",
        "\n",
        "print(f\"Dengan umur {umur} tahun, Anda termasuk dalam kategori: {kategori}\")"
      ],
      "metadata": {
        "colab": {
          "base_uri": "https://localhost:8080/"
        },
        "id": "UF9yXN5iBHIg",
        "outputId": "35a8e9af-aef6-491b-9956-d4c76378f9b1"
      },
      "execution_count": 4,
      "outputs": [
        {
          "output_type": "stream",
          "name": "stdout",
          "text": [
            "Masukkan umur Anda: 19\n",
            "Dengan umur 19 tahun, Anda termasuk dalam kategori: Dewasa\n"
          ]
        }
      ]
    },
    {
      "cell_type": "markdown",
      "source": [
        "**Hitung Tarif Parkir**\n",
        "\n"
      ],
      "metadata": {
        "id": "ufGuqCkNBQzO"
      }
    },
    {
      "cell_type": "code",
      "source": [
        "durasi_jam = int(input(\"Masukkan durasi parkir (dalam jam): \"))\n",
        "\n",
        "if durasi_jam <= 2:\n",
        "    tarif = 5000\n",
        "else:\n",
        "    # Tarif 2 jam pertama + tarif jam berikutnya\n",
        "    tarif = 5000 + (durasi_jam - 2) * 2000\n",
        "\n",
        "# Menerapkan tarif maksimal\n",
        "if tarif > 20000:\n",
        "    tarif = 20000\n",
        "\n",
        "print(f\"Durasi parkir: {durasi_jam} jam\")\n",
        "print(f\"Total tarif parkir: Rp {tarif}\")"
      ],
      "metadata": {
        "colab": {
          "base_uri": "https://localhost:8080/"
        },
        "id": "lrln415YBUrS",
        "outputId": "9fded479-9cfb-4b5e-ee16-aa14559fcf09"
      },
      "execution_count": 5,
      "outputs": [
        {
          "output_type": "stream",
          "name": "stdout",
          "text": [
            "Masukkan durasi parkir (dalam jam): 6\n",
            "Durasi parkir: 6 jam\n",
            "Total tarif parkir: Rp 13000\n"
          ]
        }
      ]
    },
    {
      "cell_type": "markdown",
      "source": [
        "**Cek Login Sederhana**\n"
      ],
      "metadata": {
        "id": "DNs3apJmBc2E"
      }
    },
    {
      "cell_type": "code",
      "source": [
        "username = input(\"Masukkan username: \")\n",
        "password = input(\"Masukkan password: \")\n",
        "\n",
        "if username == \"Kyro\" and password == \"112233\":\n",
        "    print(\"Login berhasil. Selamat datang!\")\n",
        "else:\n",
        "    print(\"Login gagal. Username atau password salah.\")"
      ],
      "metadata": {
        "colab": {
          "base_uri": "https://localhost:8080/"
        },
        "id": "ANmVY7M-Be3e",
        "outputId": "360f1311-0a95-4d0e-8589-a5432922b44e"
      },
      "execution_count": 7,
      "outputs": [
        {
          "output_type": "stream",
          "name": "stdout",
          "text": [
            "Masukkan username: Kyro\n",
            "Masukkan password: 112233\n",
            "Login berhasil. Selamat datang!\n"
          ]
        }
      ]
    },
    {
      "cell_type": "markdown",
      "source": [
        "**One-Liner If (Cek Genap/Ganjil)**\n"
      ],
      "metadata": {
        "id": "MVO98eKTBrup"
      }
    },
    {
      "cell_type": "code",
      "source": [
        "angka = int(input(\"Masukkan sebuah bilangan: \"))\n",
        "\n",
        "hasil = \"GENAP\" if angka % 2 == 0 else \"GANJIL\"\n",
        "\n",
        "print(f\"Bilangan {angka} adalah {hasil}.\")"
      ],
      "metadata": {
        "colab": {
          "base_uri": "https://localhost:8080/"
        },
        "id": "Jr_JJwk5B4IQ",
        "outputId": "1f91140f-aee7-4879-ae0e-3b1ea34c5e67"
      },
      "execution_count": 8,
      "outputs": [
        {
          "output_type": "stream",
          "name": "stdout",
          "text": [
            "Masukkan sebuah bilangan: 9\n",
            "Bilangan 9 adalah GANJIL.\n"
          ]
        }
      ]
    },
    {
      "cell_type": "markdown",
      "source": [
        "**Menu Restoran Dengan Match-Case**\n",
        "\n"
      ],
      "metadata": {
        "id": "mdJY1wCYB--2"
      }
    },
    {
      "cell_type": "code",
      "source": [
        "print(\"===== MENU Resto =====\")\n",
        "print(\"1. Nasi Goreng\")\n",
        "print(\"2. Mie Ayam\")\n",
        "print(\"3. Soto Ayam\")\n",
        "\n",
        "pilihan = int(input(\"Pilih menu (1-3): \"))\n",
        "\n",
        "match pilihan:\n",
        "    case 1:\n",
        "        print(\"Anda memesan: Nasi Goreng\")\n",
        "    case 2:\n",
        "        print(\"Anda memesan: Mie Ayam\")\n",
        "    case 3:\n",
        "        print(\"Anda memesan: Soto Ayam\")\n",
        "    case _:\n",
        "        print(\"Pilihan tidak valid. Menu tidak tersedia.\")"
      ],
      "metadata": {
        "colab": {
          "base_uri": "https://localhost:8080/"
        },
        "id": "or_NCv5hCBEV",
        "outputId": "97f08904-c204-415a-d35a-28836f6c1f54"
      },
      "execution_count": 16,
      "outputs": [
        {
          "output_type": "stream",
          "name": "stdout",
          "text": [
            "===== MENU Resto =====\n",
            "1. Nasi Goreng\n",
            "2. Mie Ayam\n",
            "3. Soto Ayam\n",
            "Pilih menu (1-3): 6\n",
            "Pilihan tidak valid. Menu tidak tersedia.\n"
          ]
        }
      ]
    },
    {
      "cell_type": "markdown",
      "source": [
        "**Studi Kasus Nyata – Program Penentuan Diskon**\n"
      ],
      "metadata": {
        "id": "x9imGp9dCmDh"
      }
    },
    {
      "cell_type": "code",
      "source": [
        "print(\"===== Foot Locker =====\")\n",
        "barang = input(\"Masukkan nama barang: \")\n",
        "harga = float(input(\"Masukkan harga satuan barang: \"))\n",
        "jumlah = int(input(\"Masukkan jumlah barang yang dibeli: \"))\n",
        "\n",
        "\n",
        "total_belanja = harga * jumlah\n",
        "\n",
        "\n",
        "if total_belanja >= 500000:\n",
        "    diskon_persen = 0.2  # 20%\n",
        "elif total_belanja >= 250000:\n",
        "    diskon_persen = 0.1  # 10%\n",
        "else:\n",
        "    diskon_persen = 0    # 0%\n",
        "\n",
        "jumlah_diskon = total_belanja * diskon_persen\n",
        "total_bayar = total_belanja - jumlah_diskon\n",
        "\n",
        "# Struk Belanja (Output)\n",
        "print(\"\\n===== Foot Locker receipt =====\")\n",
        "print(f\"Nama Barang   : {barang}\")\n",
        "print(f\"Harga Satuan  : Rp {harga:,.0f}\")\n",
        "print(f\"Jumlah Beli   : {jumlah} unit\")\n",
        "print(\"--------------------------------\")\n",
        "print(f\"Total Belanja : Rp {total_belanja:,.0f}\")\n",
        "print(f\"Diskon        : {diskon_persen*100:.0f}% (Rp {jumlah_diskon:,.0f})\")\n",
        "print(\"--------------------------------\")\n",
        "print(f\"Total Bayar   : Rp {total_bayar:,.0f}\")\n",
        "print(\"================================\")\n",
        "print(\"Terima kasih telah berbelanja di Foot Locker!\")"
      ],
      "metadata": {
        "colab": {
          "base_uri": "https://localhost:8080/"
        },
        "id": "nUulYeZKCo94",
        "outputId": "3439093d-5bc2-486d-e28a-f9544c78dfdf"
      },
      "execution_count": 14,
      "outputs": [
        {
          "output_type": "stream",
          "name": "stdout",
          "text": [
            "===== Foot Locker =====\n",
            "Masukkan nama barang: Vans Authentic\n",
            "Masukkan harga satuan barang: 929000\n",
            "Masukkan jumlah barang yang dibeli: 1\n",
            "\n",
            "===== Foot Locker receipt =====\n",
            "Nama Barang   : Vans Authentic\n",
            "Harga Satuan  : Rp 929,000\n",
            "Jumlah Beli   : 1 unit\n",
            "--------------------------------\n",
            "Total Belanja : Rp 929,000\n",
            "Diskon        : 20% (Rp 185,800)\n",
            "--------------------------------\n",
            "Total Bayar   : Rp 743,200\n",
            "================================\n",
            "Terima kasih telah berbelanja di Foot Locker!\n"
          ]
        }
      ]
    }
  ]
}