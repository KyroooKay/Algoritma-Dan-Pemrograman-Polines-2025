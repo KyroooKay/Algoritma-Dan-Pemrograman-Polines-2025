{
  "nbformat": 4,
  "nbformat_minor": 0,
  "metadata": {
    "colab": {
      "provenance": [],
      "authorship_tag": "ABX9TyP5nTuDVzrDvCmXQnrTLRWb",
      "include_colab_link": true
    },
    "kernelspec": {
      "name": "python3",
      "display_name": "Python 3"
    },
    "language_info": {
      "name": "python"
    }
  },
  "cells": [
    {
      "cell_type": "markdown",
      "metadata": {
        "id": "view-in-github",
        "colab_type": "text"
      },
      "source": [
        "<a href=\"https://colab.research.google.com/github/KyroooKay/Algoritma-Dan-Pemrograman-Polines-2025/blob/praktikum-5/Praktikum_05.ipynb\" target=\"_parent\"><img src=\"https://colab.research.google.com/assets/colab-badge.svg\" alt=\"Open In Colab\"/></a>"
      ]
    },
    {
      "cell_type": "markdown",
      "source": [
        "01 – Indexing dan Slicing"
      ],
      "metadata": {
        "id": "OguWLOJC9ybx"
      }
    },
    {
      "cell_type": "code",
      "source": [
        "teks = \"Politeknik Negeri Semarang\"\n",
        "print(teks[0])\n",
        "print(teks[0:11])\n",
        "print(teks[-8:])"
      ],
      "metadata": {
        "colab": {
          "base_uri": "https://localhost:8080/"
        },
        "id": "l8Kr5IfM92Of",
        "outputId": "d564d30b-c694-4fad-d212-bae47abbe80f"
      },
      "execution_count": null,
      "outputs": [
        {
          "output_type": "stream",
          "name": "stdout",
          "text": [
            "P\n",
            "Politeknik \n",
            "Semarang\n"
          ]
        }
      ]
    },
    {
      "cell_type": "markdown",
      "source": [
        "02 – Method Bawaan String"
      ],
      "metadata": {
        "id": "q3yomznc94II"
      }
    },
    {
      "cell_type": "code",
      "source": [
        "teks = \" Politeknik Negeri Semarang \"\n",
        "print (teks.upper())\n",
        "print(teks.lower())\n",
        "print(teks.title())\n",
        "print(teks.strip())\n",
        "print(teks.split(\" \"))\n",
        "print(\"-\".join([\"Politeknik\",\"Negeri\",\"Semarang\"]))"
      ],
      "metadata": {
        "colab": {
          "base_uri": "https://localhost:8080/"
        },
        "id": "rKmoi_eP96Jr",
        "outputId": "0488dc22-ad4f-4e7c-edf3-806ff92d7dc1"
      },
      "execution_count": null,
      "outputs": [
        {
          "output_type": "stream",
          "name": "stdout",
          "text": [
            " POLITEKNIK NEGERI SEMARANG \n",
            " politeknik negeri semarang \n",
            " Politeknik Negeri Semarang \n",
            "Politeknik Negeri Semarang\n",
            "['', 'Politeknik', 'Negeri', 'Semarang', '']\n",
            "Politeknik-Negeri-Semarang\n"
          ]
        }
      ]
    },
    {
      "cell_type": "markdown",
      "source": [
        "03 – Validasi Password"
      ],
      "metadata": {
        "id": "VCJVyK3q979g"
      }
    },
    {
      "cell_type": "code",
      "source": [
        "password = (str(input(\"Masukkan Password: \")))\n",
        "if len(password) >= 8:\n",
        "  print (\"Password Valid\")\n",
        "else:\n",
        "  print(\"Password terlalu pendek\")"
      ],
      "metadata": {
        "colab": {
          "base_uri": "https://localhost:8080/"
        },
        "id": "FS55kAtd99qj",
        "outputId": "345fa38b-6470-48e0-90a9-89085590db36"
      },
      "execution_count": null,
      "outputs": [
        {
          "output_type": "stream",
          "name": "stdout",
          "text": [
            "Masukkan Password: 123\n",
            "Password terlalu pendek\n"
          ]
        }
      ]
    },
    {
      "cell_type": "markdown",
      "source": [
        "04 – String Formatting dengan F-String"
      ],
      "metadata": {
        "id": "ym9gUY409_Wo"
      }
    },
    {
      "cell_type": "code",
      "source": [
        "nama = str(input(\"Masukkan nama: \"))\n",
        "umur = int(input(\"Masukkan umur: \"))\n",
        "\n",
        "print(f\"Nama saya {nama}, umur {umur} tahun\")"
      ],
      "metadata": {
        "colab": {
          "base_uri": "https://localhost:8080/"
        },
        "id": "016a3rEM-A8P",
        "outputId": "bc550763-99f7-4df0-8721-1083e4c13151"
      },
      "execution_count": null,
      "outputs": [
        {
          "output_type": "stream",
          "name": "stdout",
          "text": [
            "Masukkan nama: anin\n",
            "Masukkan umur: 20\n",
            "Nama saya anin, umur 20 tahun\n"
          ]
        }
      ]
    },
    {
      "cell_type": "markdown",
      "source": [
        " 05 – Operasi dalam F-String"
      ],
      "metadata": {
        "id": "yn4ZwtUF-WxI"
      }
    },
    {
      "cell_type": "code",
      "source": [
        "a = int(input(\"Masukkan a: \"))\n",
        "b = int(input(\"Masukkan b: \"))\n",
        "\n",
        "print(f\"Hasil penjumlahan {a} + {b} = {a+b}\")\n",
        "print(f\"Hasil pembagian {a} / {b} = {a/b:.2f}\")"
      ],
      "metadata": {
        "colab": {
          "base_uri": "https://localhost:8080/"
        },
        "id": "VjcOMHEF-XxS",
        "outputId": "aba5c96a-2928-485e-8238-ea56f3943df1"
      },
      "execution_count": null,
      "outputs": [
        {
          "output_type": "stream",
          "name": "stdout",
          "text": [
            "Masukkan a: 9\n",
            "Masukkan b: 5\n",
            "Hasil penjumlahan 9 + 5 = 14\n",
            "Hasil pembagian 9 / 5 = 1.80\n"
          ]
        }
      ]
    },
    {
      "cell_type": "markdown",
      "source": [
        "06 – Casting String"
      ],
      "metadata": {
        "id": "pKvDokKo-d1B"
      }
    },
    {
      "cell_type": "code",
      "source": [
        "angka = 123\n",
        "teks = \"456\"\n",
        "print(\"Nilai: \" + str(angka))\n",
        "print(int(teks) + 10)"
      ],
      "metadata": {
        "colab": {
          "base_uri": "https://localhost:8080/"
        },
        "id": "H7PMkgQV-eM8",
        "outputId": "c3566b9f-474f-4f55-b446-e6c431da79b4"
      },
      "execution_count": null,
      "outputs": [
        {
          "output_type": "stream",
          "name": "stdout",
          "text": [
            "Nilai: 123\n",
            "466\n"
          ]
        }
      ]
    },
    {
      "cell_type": "markdown",
      "source": [
        "07 – Studi Kasus Nyata: Analisis Kalimat"
      ],
      "metadata": {
        "id": "6-iW_Hai-gNq"
      }
    },
    {
      "cell_type": "code",
      "source": [
        "kalimat = \"Saya kuliah di Politeknik Negeri Semarang\"\n",
        "daftar_kata = kalimat.split(\" \")\n",
        "\n",
        "print(f\"Jumlah kata: {len(daftar_kata)}\")\n",
        "for i, kata in enumerate(daftar_kata, start=1):\n",
        "    print(i, kata)"
      ],
      "metadata": {
        "colab": {
          "base_uri": "https://localhost:8080/"
        },
        "id": "hj9VXwaj-hn1",
        "outputId": "456f7466-78cd-4f3c-8e24-3dc279742e7a"
      },
      "execution_count": null,
      "outputs": [
        {
          "output_type": "stream",
          "name": "stdout",
          "text": [
            "Jumlah kata: 6\n",
            "1 Saya\n",
            "2 kuliah\n",
            "3 di\n",
            "4 Politeknik\n",
            "5 Negeri\n",
            "6 Semarang\n"
          ]
        }
      ]
    },
    {
      "cell_type": "markdown",
      "source": [
        "**PENUGASAN**"
      ],
      "metadata": {
        "id": "5cEcnpoZ-kVi"
      }
    },
    {
      "cell_type": "markdown",
      "source": [
        "**Indexing dan Slicing**"
      ],
      "metadata": {
        "id": "nIE2fHzC_XpU"
      }
    },
    {
      "cell_type": "code",
      "source": [
        "teks = \"Politeknik Negeri Semarang\"\n",
        "print(\"Huruf pertama:\", teks[0])\n",
        "print(\"Huruf terakhir:\", teks[-1])\n",
        "print(\"Kata 'Negeri':\", teks[11:17])\n"
      ],
      "metadata": {
        "colab": {
          "base_uri": "https://localhost:8080/"
        },
        "id": "bmUT71CQ_c8c",
        "outputId": "81b8dd56-38bd-4516-bbda-821745f3ca64"
      },
      "execution_count": null,
      "outputs": [
        {
          "output_type": "stream",
          "name": "stdout",
          "text": [
            "Huruf pertama: P\n",
            "Huruf terakhir: g\n",
            "Kata 'Negeri': Negeri\n"
          ]
        }
      ]
    },
    {
      "cell_type": "markdown",
      "source": [],
      "metadata": {
        "id": "w4M7Kow0_i3_"
      }
    },
    {
      "cell_type": "markdown",
      "source": [
        "**Manipulasi String**"
      ],
      "metadata": {
        "id": "7s10Rj-0_pgg"
      }
    },
    {
      "cell_type": "code",
      "source": [
        "kalimat = input(\"Masukkan sebuah kalimat: \")\n",
        "print(\"Semua huruf kapital :\", kalimat.upper())\n",
        "print(\"Semua huruf kecil   :\", kalimat.lower())\n",
        "print(\"Panjang kalimat     :\", len(kalimat))\n"
      ],
      "metadata": {
        "colab": {
          "base_uri": "https://localhost:8080/"
        },
        "id": "qkoX9Cqu_tLh",
        "outputId": "c9873794-2b3c-4926-bd5e-58c22879b9f1"
      },
      "execution_count": null,
      "outputs": [
        {
          "output_type": "stream",
          "name": "stdout",
          "text": [
            "Masukkan sebuah kalimat: saya\n",
            "Semua huruf kapital : SAYA\n",
            "Semua huruf kecil   : saya\n",
            "Panjang kalimat     : 4\n"
          ]
        }
      ]
    },
    {
      "cell_type": "markdown",
      "source": [
        "**Validasi Username**"
      ],
      "metadata": {
        "id": "amC83pR1AEQ1"
      }
    },
    {
      "cell_type": "code",
      "source": [
        "username = input(\"Masukkan username: \")\n",
        "if \" \" in username:\n",
        "    print(\"Error: Username tidak boleh mengandung spasi!\")\n",
        "else:\n",
        "    print(\"Username valid.\")\n"
      ],
      "metadata": {
        "colab": {
          "base_uri": "https://localhost:8080/"
        },
        "id": "3V7IHzCNAONP",
        "outputId": "612eb577-7bf8-4a29-da3f-10b07a5cb279"
      },
      "execution_count": null,
      "outputs": [
        {
          "output_type": "stream",
          "name": "stdout",
          "text": [
            "Masukkan username: kyro\n",
            "Username valid.\n"
          ]
        }
      ]
    },
    {
      "cell_type": "markdown",
      "source": [
        "**String Formatting dengan F-String**"
      ],
      "metadata": {
        "id": "P4IEq5tgAWUf"
      }
    },
    {
      "cell_type": "code",
      "source": [
        "nama = input(\"Masukkan nama: \")\n",
        "umur = input(\"Masukkan umur: \")\n",
        "jurusan = input(\"Masukkan jurusan: \")\n",
        "\n",
        "print(\"\\n=== BIODATA ===\")\n",
        "print(f\"Nama    : {nama}\")\n",
        "print(f\"Umur    : {umur}\")\n",
        "print(f\"Jurusan : {jurusan}\")\n"
      ],
      "metadata": {
        "colab": {
          "base_uri": "https://localhost:8080/"
        },
        "id": "4eqhq2jjAYky",
        "outputId": "abb1b05d-6a87-4251-9f80-70e7896d1de7"
      },
      "execution_count": null,
      "outputs": [
        {
          "output_type": "stream",
          "name": "stdout",
          "text": [
            "Masukkan nama: Lukman\n",
            "Masukkan umur: 19\n",
            "Masukkan jurusan: Elektro\n",
            "\n",
            "=== BIODATA ===\n",
            "Nama    : Lukman\n",
            "Umur    : 19\n",
            "Jurusan : Elektro\n"
          ]
        }
      ]
    },
    {
      "cell_type": "markdown",
      "source": [
        "**Operasi dalam F-String**"
      ],
      "metadata": {
        "id": "5iMPkJcSA_GR"
      }
    },
    {
      "cell_type": "code",
      "source": [
        "a = int(input(\"Masukkan bilangan pertama: \"))\n",
        "b = int(input(\"Masukkan bilangan kedua: \"))\n",
        "\n",
        "print(\"\\n=== HASIL OPERASI ===\")\n",
        "print(f\"{a} + {b} = {a + b}\")\n",
        "print(f\"{a} - {b} = {a - b}\")\n",
        "print(f\"{a} × {b} = {a * b}\")\n",
        "print(f\"{a} ÷ {b} = {a / b:.2f}\")\n"
      ],
      "metadata": {
        "colab": {
          "base_uri": "https://localhost:8080/"
        },
        "id": "858bMVKyC0c8",
        "outputId": "235e5997-a8ab-4329-a1cf-1b3e3d7ddb63"
      },
      "execution_count": null,
      "outputs": [
        {
          "output_type": "stream",
          "name": "stdout",
          "text": [
            "Masukkan bilangan pertama: 2\n",
            "Masukkan bilangan kedua: 3\n",
            "\n",
            "=== HASIL OPERASI ===\n",
            "2 + 3 = 5\n",
            "2 - 3 = -1\n",
            "2 × 3 = 6\n",
            "2 ÷ 3 = 0.67\n"
          ]
        }
      ]
    },
    {
      "cell_type": "markdown",
      "source": [
        "**Casting Data**"
      ],
      "metadata": {
        "id": "2jcqOP_9C_HI"
      }
    },
    {
      "cell_type": "code",
      "source": [
        "angka_str = input(\"Masukkan sebuah angka: \")\n",
        "\n",
        "angka_int = int(angka_str)\n",
        "kuadrat = angka_int ** 2\n",
        "\n",
        "angka_float = float(angka_str)\n",
        "\n",
        "print(f\"\\nHasil kuadrat (integer): {kuadrat}\")\n",
        "print(f\"Nilai dalam float (2 angka di belakang koma): {angka_float:.2f}\")\n"
      ],
      "metadata": {
        "colab": {
          "base_uri": "https://localhost:8080/"
        },
        "id": "wiwKQE_eDBi4",
        "outputId": "b7beffc7-06ba-4d13-8a49-7e49d48932f7"
      },
      "execution_count": null,
      "outputs": [
        {
          "output_type": "stream",
          "name": "stdout",
          "text": [
            "Masukkan sebuah angka: 69\n",
            "\n",
            "Hasil kuadrat (integer): 4761\n",
            "Nilai dalam float (2 angka di belakang koma): 69.00\n"
          ]
        }
      ]
    },
    {
      "cell_type": "markdown",
      "source": [
        "**Studi Kasus Analisis Teks**"
      ],
      "metadata": {
        "id": "-L7-eKubDHs0"
      }
    },
    {
      "cell_type": "code",
      "source": [
        "kalimat = input(\"Masukkan sebuah kalimat: \")\n",
        "\n",
        "kata_list = kalimat.split()\n",
        "\n",
        "jumlah_kata = len(kata_list)\n",
        "\n",
        "kata_terpanjang = max(kata_list, key=len)\n",
        "\n",
        "kata_urut = sorted(kata_list)\n",
        "\n",
        "print(\"\\n=== HASIL ANALISIS TEKS ===\")\n",
        "print(f\"Jumlah kata       : {jumlah_kata}\")\n",
        "print(f\"Kata terpanjang   : {kata_terpanjang}\")\n",
        "print(f\"Daftar kata (abjad): {kata_urut}\")\n"
      ],
      "metadata": {
        "colab": {
          "base_uri": "https://localhost:8080/"
        },
        "id": "jkUCV6i3DNj-",
        "outputId": "3fd7cd90-4ac6-4ed0-830a-878c2c077db3"
      },
      "execution_count": null,
      "outputs": [
        {
          "output_type": "stream",
          "name": "stdout",
          "text": [
            "Masukkan sebuah kalimat: Saya\n",
            "\n",
            "=== HASIL ANALISIS TEKS ===\n",
            "Jumlah kata       : 1\n",
            "Kata terpanjang   : Saya\n",
            "Daftar kata (abjad): ['Saya']\n"
          ]
        }
      ]
    }
  ]
}