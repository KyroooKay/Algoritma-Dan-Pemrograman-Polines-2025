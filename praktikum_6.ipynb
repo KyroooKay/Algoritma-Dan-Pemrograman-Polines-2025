{
  "nbformat": 4,
  "nbformat_minor": 0,
  "metadata": {
    "colab": {
      "provenance": [],
      "authorship_tag": "ABX9TyNY7+5a0ZAiupeESjbpSolx",
      "include_colab_link": true
    },
    "kernelspec": {
      "name": "python3",
      "display_name": "Python 3"
    },
    "language_info": {
      "name": "python"
    }
  },
  "cells": [
    {
      "cell_type": "markdown",
      "metadata": {
        "id": "view-in-github",
        "colab_type": "text"
      },
      "source": [
        "<a href=\"https://colab.research.google.com/github/KyroooKay/Algoritma-Dan-Pemrograman-Polines-2025/blob/praktikum-6/praktikum_6.ipynb\" target=\"_parent\"><img src=\"https://colab.research.google.com/assets/colab-badge.svg\" alt=\"Open In Colab\"/></a>"
      ]
    },
    {
      "cell_type": "markdown",
      "source": [
        "**Membuat & Mengakses List 1D**"
      ],
      "metadata": {
        "id": "T9ziwicpfSll"
      }
    },
    {
      "cell_type": "code",
      "source": [
        "mahasiswa = [\"Andi\", \"Budi\", \"Cici\"]\n",
        "print(mahasiswa[0]) #Andi\n",
        "print(mahasiswa[1]) #Budi\n",
        "print(mahasiswa[-1]) #Cici"
      ],
      "metadata": {
        "colab": {
          "base_uri": "https://localhost:8080/"
        },
        "id": "7_IrBu8kfcJk",
        "outputId": "cd387bdc-9bd6-4c9a-d2cb-d90ecaccb04f"
      },
      "execution_count": null,
      "outputs": [
        {
          "output_type": "stream",
          "name": "stdout",
          "text": [
            "Andi\n",
            "Budi\n",
            "Cici\n"
          ]
        }
      ]
    },
    {
      "cell_type": "markdown",
      "source": [
        "**Update dan Operasi Dasar List**"
      ],
      "metadata": {
        "id": "ac5qeq_ugE8H"
      }
    },
    {
      "cell_type": "code",
      "source": [
        "nilai = [85,90,78]\n",
        "nilai[1] = 95\n",
        "nilai.append(100)\n",
        "nilai.remove(78)\n",
        "print(nilai)"
      ],
      "metadata": {
        "colab": {
          "base_uri": "https://localhost:8080/"
        },
        "id": "JQf-_LJYgIRv",
        "outputId": "58dc3fc1-3821-44f3-eb97-1f5b07b9373e"
      },
      "execution_count": null,
      "outputs": [
        {
          "output_type": "stream",
          "name": "stdout",
          "text": [
            "[85, 95, 100]\n"
          ]
        }
      ]
    },
    {
      "cell_type": "markdown",
      "source": [
        "**Slicing List**"
      ],
      "metadata": {
        "id": "D5axC_6agiot"
      }
    },
    {
      "cell_type": "code",
      "source": [
        "nilai = [85,90,78,92,88]\n",
        "print(nilai[0:3])\n",
        "print(nilai[2:])\n",
        "print(nilai[:3])"
      ],
      "metadata": {
        "colab": {
          "base_uri": "https://localhost:8080/"
        },
        "id": "ShW0G8bVgkQC",
        "outputId": "afe51fa9-677b-4070-ad3e-f17eed1b52bd"
      },
      "execution_count": null,
      "outputs": [
        {
          "output_type": "stream",
          "name": "stdout",
          "text": [
            "[85, 90, 78]\n",
            "[78, 92, 88]\n",
            "[85, 90, 78]\n"
          ]
        }
      ]
    },
    {
      "cell_type": "markdown",
      "source": [
        "**List 2D (Matriks)**"
      ],
      "metadata": {
        "id": "4BZCuY5Vg5ve"
      }
    },
    {
      "cell_type": "code",
      "source": [
        "matriks = [ [1,2,3],\n",
        "\n",
        "            [4,5,6],\n",
        "\n",
        "            [7,8,9]\n",
        "                     ]\n",
        "print(matriks[0][0])\n",
        "print(matriks[1][2])\n",
        "print(matriks[2])"
      ],
      "metadata": {
        "colab": {
          "base_uri": "https://localhost:8080/"
        },
        "id": "P0xR4SXxg_Gt",
        "outputId": "a40e881b-5e39-4404-9d97-994b1a31872d"
      },
      "execution_count": null,
      "outputs": [
        {
          "output_type": "stream",
          "name": "stdout",
          "text": [
            "1\n",
            "6\n",
            "[7, 8, 9]\n"
          ]
        }
      ]
    },
    {
      "cell_type": "markdown",
      "source": [
        "**Operai pada List 2D**"
      ],
      "metadata": {
        "id": "BPTzXO16h48l"
      }
    },
    {
      "cell_type": "code",
      "source": [
        "A = [[1,2,3], [4,5,6]]\n",
        "B = [[7,8,9], [10,11,12]]\n",
        "C = []\n",
        "for i in range(len(A)):\n",
        "  baris = []\n",
        "  for j in range(len(A[0])):\n",
        "    total = A[i][j] + B[i][j]\n",
        "    baris.append(total)\n",
        "  C.append(baris)\n",
        "  print(C)\n"
      ],
      "metadata": {
        "colab": {
          "base_uri": "https://localhost:8080/"
        },
        "id": "j_y8JTTUh_p5",
        "outputId": "54700c8b-0e9f-40e7-ad55-9e7b2ca31be3"
      },
      "execution_count": null,
      "outputs": [
        {
          "output_type": "stream",
          "name": "stdout",
          "text": [
            "[[8, 10, 12]]\n",
            "[[8, 10, 12], [14, 16, 18]]\n"
          ]
        }
      ]
    },
    {
      "cell_type": "markdown",
      "source": [
        "**Pengelolaan Nilai Mahasiswa**"
      ],
      "metadata": {
        "id": "eL8U1j__jmNU"
      }
    },
    {
      "cell_type": "code",
      "source": [
        "nilai = [\n",
        "    [80,90,85],\n",
        "    [70,75,80],\n",
        "    [88,92,84]\n",
        "]\n",
        "for i, baris in enumerate(nilai,start=1):\n",
        "  rata = sum(baris)/len(baris)\n",
        "  print(f\"Nilai Rata-rata Mahasiswa ke-{i}: {rata:.2f}\")"
      ],
      "metadata": {
        "colab": {
          "base_uri": "https://localhost:8080/"
        },
        "id": "kamAlcHKjsM0",
        "outputId": "34ed773b-de1a-4bfc-b9a6-5d5f219e1bfc"
      },
      "execution_count": null,
      "outputs": [
        {
          "output_type": "stream",
          "name": "stdout",
          "text": [
            "Nilai Rata-rata Mahasiswa ke-1: 85.00\n",
            "Nilai Rata-rata Mahasiswa ke-2: 75.00\n",
            "Nilai Rata-rata Mahasiswa ke-3: 88.00\n"
          ]
        }
      ]
    },
    {
      "cell_type": "markdown",
      "source": [
        "**PANUGASAN**"
      ],
      "metadata": {
        "id": "iIkE7H3o3ZtX"
      }
    },
    {
      "cell_type": "markdown",
      "source": [
        "Akses Elemen List"
      ],
      "metadata": {
        "id": "7q2SXMvd3dD4"
      }
    },
    {
      "cell_type": "code",
      "source": [
        "mahasiswa = [\"Anin\", \"Bintang\", \"April\", \"Adit\", \"Rehan\"]\n",
        "print(mahasiswa[0])\n",
        "print(mahasiswa[4])\n",
        "print(mahasiswa[1])"
      ],
      "metadata": {
        "colab": {
          "base_uri": "https://localhost:8080/"
        },
        "id": "UjDsreGa3if0",
        "outputId": "0eb1529b-37b1-4444-f8f5-8312023c645a"
      },
      "execution_count": null,
      "outputs": [
        {
          "output_type": "stream",
          "name": "stdout",
          "text": [
            "Anin\n",
            "Rehan\n",
            "Bintang\n"
          ]
        }
      ]
    },
    {
      "cell_type": "markdown",
      "source": [
        "Operasi Dasar List"
      ],
      "metadata": {
        "id": "H7SJXxFw4Cuu"
      }
    },
    {
      "cell_type": "code",
      "source": [
        "nilai = [70, 75, 80]\n",
        "nilai[1] = 85\n",
        "nilai.append(90)\n",
        "nilai.remove(70)\n",
        "print(nilai)"
      ],
      "metadata": {
        "colab": {
          "base_uri": "https://localhost:8080/"
        },
        "id": "gUtDB5QU4FSv",
        "outputId": "3e14d28c-edfa-49ac-ae2f-e7dae001fb07"
      },
      "execution_count": 2,
      "outputs": [
        {
          "output_type": "stream",
          "name": "stdout",
          "text": [
            "[85, 80, 90]\n"
          ]
        }
      ]
    },
    {
      "cell_type": "markdown",
      "source": [
        "Slicing List"
      ],
      "metadata": {
        "id": "XWJXbSVc4L14"
      }
    },
    {
      "cell_type": "code",
      "source": [
        "nilai = [1,2,3,4,5,6,7,8,9,10]\n",
        "print(nilai[0:3])\n",
        "print(nilai[6:])\n",
        "print(nilai[::2])"
      ],
      "metadata": {
        "id": "6vcyRHW34NLI",
        "colab": {
          "base_uri": "https://localhost:8080/"
        },
        "outputId": "ffcd395c-73ab-4948-d135-276b298e4e43"
      },
      "execution_count": 3,
      "outputs": [
        {
          "output_type": "stream",
          "name": "stdout",
          "text": [
            "[1, 2, 3]\n",
            "[7, 8, 9, 10]\n",
            "[1, 3, 5, 7, 9]\n"
          ]
        }
      ]
    },
    {
      "cell_type": "markdown",
      "source": [
        "List 2D (Matriks)"
      ],
      "metadata": {
        "id": "D5Q7vqe24OtW"
      }
    },
    {
      "cell_type": "code",
      "source": [
        "matriks = [[1,2,3],[4,5,6]]\n",
        "print(matriks[0][1])\n",
        "print(matriks[1][2])\n",
        "print(matriks[0])"
      ],
      "metadata": {
        "id": "Nf9r8omH4P8n",
        "colab": {
          "base_uri": "https://localhost:8080/"
        },
        "outputId": "4ae53c8f-a5fa-453f-cb2d-3f676e32aeba"
      },
      "execution_count": 4,
      "outputs": [
        {
          "output_type": "stream",
          "name": "stdout",
          "text": [
            "2\n",
            "6\n",
            "[1, 2, 3]\n"
          ]
        }
      ]
    },
    {
      "cell_type": "markdown",
      "source": [
        "Operasi Matriks 2D"
      ],
      "metadata": {
        "id": "GKtTrIAs4SdN"
      }
    },
    {
      "cell_type": "code",
      "source": [
        "A = [[1,2,3], [4,5,6]]\n",
        "B = [[7,8,9], [10,11,12]]\n",
        "C = []\n",
        "for i in range(len(A)):\n",
        "    baris = []\n",
        "    for j in range(len(A[0])):\n",
        "        baris.append(A[i][j]+ B[i][j])\n",
        "    C.append(baris)\n",
        "print(C)"
      ],
      "metadata": {
        "id": "nWEH67LH4T8_",
        "colab": {
          "base_uri": "https://localhost:8080/"
        },
        "outputId": "72e08bff-34ec-41ad-ae3a-7b76d0301c91"
      },
      "execution_count": 5,
      "outputs": [
        {
          "output_type": "stream",
          "name": "stdout",
          "text": [
            "[[8, 10, 12], [14, 16, 18]]\n"
          ]
        }
      ]
    },
    {
      "cell_type": "markdown",
      "source": [
        "Rata-rata Nilai Mahasiswa"
      ],
      "metadata": {
        "id": "ma1V0M9l4WLE"
      }
    },
    {
      "cell_type": "code",
      "source": [
        "nilai = [[75,80,85],\n",
        "         [60,70,65],\n",
        "         [90,95,92]\n",
        "         ]\n",
        "for i, baris in enumerate(nilai, start=1):\n",
        "    rata = sum(baris) / len(baris)\n",
        "    print(f\"Rata-rata mahasiswa ke-{i}: {rata:.2f}\")"
      ],
      "metadata": {
        "id": "ix2CLzP04X4x",
        "colab": {
          "base_uri": "https://localhost:8080/"
        },
        "outputId": "f944528e-382d-4dc9-bd8a-d5a5e41d74df"
      },
      "execution_count": 6,
      "outputs": [
        {
          "output_type": "stream",
          "name": "stdout",
          "text": [
            "Rata-rata mahasiswa ke-1: 80.00\n",
            "Rata-rata mahasiswa ke-2: 65.00\n",
            "Rata-rata mahasiswa ke-3: 92.33\n"
          ]
        }
      ]
    },
    {
      "cell_type": "markdown",
      "source": [
        "Studi Kasus – Data Toko"
      ],
      "metadata": {
        "id": "RZOGuR0T4aQt"
      }
    },
    {
      "cell_type": "code",
      "source": [
        "stok = [[\"Buku\", 20],\n",
        "        [\"Pensil\", 35],\n",
        "        [\"Penggaris\", 15]\n",
        "       ]\n",
        "\n",
        "print(\"   DAFTAR STOK BARANG\")\n",
        "print(\"------------------------\")\n",
        "\n",
        "for item in stok:\n",
        "    nama_barang = item[0]\n",
        "    jumlah_stok = item[1]\n",
        "    print(f\"- {nama_barang}: {jumlah_stok} unit\")\n",
        "\n",
        "barang_terbanyak = max(stok, key=lambda item: item[1])\n",
        "\n",
        "print(\"------------------------\")\n",
        "print(f\"Stok Terbanyak:\")\n",
        "print(f\"{barang_terbanyak[0]} dengan {barang_terbanyak[1]} unit.\")"
      ],
      "metadata": {
        "id": "14r48FuQ4b7r",
        "colab": {
          "base_uri": "https://localhost:8080/"
        },
        "outputId": "bbc3ccc2-a39b-45f0-ea2b-9d631fccddc6"
      },
      "execution_count": 7,
      "outputs": [
        {
          "output_type": "stream",
          "name": "stdout",
          "text": [
            "   DAFTAR STOK BARANG\n",
            "------------------------\n",
            "- Buku: 20 unit\n",
            "- Pensil: 35 unit\n",
            "- Penggaris: 15 unit\n",
            "------------------------\n",
            "Stok Terbanyak:\n",
            "Pensil dengan 35 unit.\n"
          ]
        }
      ]
    }
  ]
}