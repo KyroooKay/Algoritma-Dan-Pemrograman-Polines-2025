{
  "nbformat": 4,
  "nbformat_minor": 0,
  "metadata": {
    "colab": {
      "provenance": [],
      "authorship_tag": "ABX9TyNGud0mMhuwYY6jxwjwZilT",
      "include_colab_link": true
    },
    "kernelspec": {
      "name": "python3",
      "display_name": "Python 3"
    },
    "language_info": {
      "name": "python"
    }
  },
  "cells": [
    {
      "cell_type": "markdown",
      "metadata": {
        "id": "view-in-github",
        "colab_type": "text"
      },
      "source": [
        "<a href=\"https://colab.research.google.com/github/KyroooKay/Algoritma-Dan-Pemrograman-Polines-2025/blob/praktikum-7/praktikum_7.ipynb\" target=\"_parent\"><img src=\"https://colab.research.google.com/assets/colab-badge.svg\" alt=\"Open In Colab\"/></a>"
      ]
    },
    {
      "cell_type": "markdown",
      "source": [
        "**Tuple: Data Tetap**"
      ],
      "metadata": {
        "id": "8wrk-Op3ltgS"
      }
    },
    {
      "cell_type": "code",
      "source": [
        "koordinat = (7.05,110.44)\n",
        "print(\"lintang:\",koordinat[0])\n",
        "print(\"bujur:\",koordinat[1])"
      ],
      "metadata": {
        "colab": {
          "base_uri": "https://localhost:8080/"
        },
        "id": "SLdNP2JylwFN",
        "outputId": "bf90b403-14ad-4f56-e9c6-f32b57ef6f83"
      },
      "execution_count": null,
      "outputs": [
        {
          "output_type": "stream",
          "name": "stdout",
          "text": [
            "lintang: 7.05\n",
            "bujur: 110.44\n"
          ]
        }
      ]
    },
    {
      "cell_type": "markdown",
      "source": [
        "**Dictionary Dasar**"
      ],
      "metadata": {
        "id": "dCrdAe_smEbm"
      }
    },
    {
      "cell_type": "code",
      "source": [
        "mahasiswa = {\n",
        "    \"NIM\": \"20251001\",\n",
        "    \"Nama\": \"Andi\",\n",
        "    \"Prodi\": \"TRK\"\n",
        "}\n",
        "\n",
        "print(\"Data Mahasiswa:\")\n",
        "print(\"NIM   :\", mahasiswa[\"NIM\"])\n",
        "print(\"Nama  :\", mahasiswa[\"Nama\"])\n",
        "print(\"Prodi :\", mahasiswa[\"Prodi\"])\n"
      ],
      "metadata": {
        "colab": {
          "base_uri": "https://localhost:8080/"
        },
        "id": "eEGME7V_mF-7",
        "outputId": "9e8dc2ee-d6c6-4cfc-8e62-1e2f4e350e07"
      },
      "execution_count": null,
      "outputs": [
        {
          "output_type": "stream",
          "name": "stdout",
          "text": [
            "Data Mahasiswa:\n",
            "NIM   : 20251001\n",
            "Nama  : Andi\n",
            "Prodi : TRK\n"
          ]
        }
      ]
    },
    {
      "cell_type": "markdown",
      "source": [
        "**Operasi Dictionary**"
      ],
      "metadata": {
        "id": "Yc6nsk51meOR"
      }
    },
    {
      "cell_type": "code",
      "source": [
        "mahasiswa = {\n",
        "    \"NIM\": \"20251001\",\n",
        "    \"Nama\": \"Andi\",\n",
        "    \"Prodi\": \"TRK\"\n",
        "}\n",
        "mahasiswa[\"Umur\"] = 20\n",
        "mahasiswa[\"Prodi\"] = \"Teknik Komputer\"\n",
        "del mahasiswa[\"Umur\"]\n",
        "print(\"Data Mahasiswa Setelah Operasi:\")\n",
        "for key, value in mahasiswa.items():\n",
        "    print(f\"{key} : {value}\")\n"
      ],
      "metadata": {
        "colab": {
          "base_uri": "https://localhost:8080/"
        },
        "id": "hs25-Fx8mgck",
        "outputId": "dd8ee710-0be0-4464-89c9-230e91b3bb67"
      },
      "execution_count": null,
      "outputs": [
        {
          "output_type": "stream",
          "name": "stdout",
          "text": [
            "Data Mahasiswa Setelah Operasi:\n",
            "NIM : 20251001\n",
            "Nama : Andi\n",
            "Prodi : Teknik Komputer\n"
          ]
        }
      ]
    },
    {
      "cell_type": "markdown",
      "source": [
        "**Set dan Operasi Himpunan**"
      ],
      "metadata": {
        "id": "egnsyblHqD5n"
      }
    },
    {
      "cell_type": "code",
      "source": [
        "A = {1, 2, 3, 4}\n",
        "B = {3, 4, 5, 6}\n",
        "print(\"Union:\", A | B)\n",
        "print(\"Intersection:\", A & B)\n",
        "print(\"Difference:\", A - B)"
      ],
      "metadata": {
        "colab": {
          "base_uri": "https://localhost:8080/"
        },
        "id": "dFrL6ghOqFnn",
        "outputId": "3bdab6e4-7b42-4c06-fe53-9cac194637b6"
      },
      "execution_count": null,
      "outputs": [
        {
          "output_type": "stream",
          "name": "stdout",
          "text": [
            "Union: {1, 2, 3, 4, 5, 6}\n",
            "Intersection: {3, 4}\n",
            "Difference: {1, 2}\n"
          ]
        }
      ]
    },
    {
      "cell_type": "markdown",
      "source": [
        "**Studi Kasus Mata Kuliah**"
      ],
      "metadata": {
        "id": "b-MErZMCqeEA"
      }
    },
    {
      "cell_type": "code",
      "source": [
        "mhs1 = {\"Algoritma\", \"Matematika\", \"Bahasa Inggris\"}\n",
        "mhs2 = {\"Algoritma\", \"Basis Data\", \"Matematika\"}\n",
        "\n",
        "print(\"Mata kuliah Mhs1:\", mhs1)\n",
        "print(\"Mata kuliah Mhs2:\", mhs2)\n",
        "\n",
        "print(\"Mata kuliah yang sama:\", mhs1 & mhs2)\n"
      ],
      "metadata": {
        "colab": {
          "base_uri": "https://localhost:8080/"
        },
        "id": "B13YrS0bqgEj",
        "outputId": "35509fa7-e714-4b1c-8016-29587f51092b"
      },
      "execution_count": null,
      "outputs": [
        {
          "output_type": "stream",
          "name": "stdout",
          "text": [
            "Mata kuliah Mhs1: {'Matematika', 'Algoritma', 'Bahasa Inggris'}\n",
            "Mata kuliah Mhs2: {'Matematika', 'Basis Data', 'Algoritma'}\n",
            "Mata kuliah yang sama: {'Matematika', 'Algoritma'}\n"
          ]
        }
      ]
    },
    {
      "cell_type": "markdown",
      "source": [
        "**Studi Kasus Dictionary: Daftar Nilai**"
      ],
      "metadata": {
        "id": "sEAG2QQWqvCx"
      }
    },
    {
      "cell_type": "code",
      "source": [
        "nilai_mahasiswa = {\n",
        "    \"Andi\": 80,\n",
        "    \"Budi\": 75,\n",
        "    \"Cici\": 90\n",
        "}\n",
        "\n",
        "for nama, nilai in nilai_mahasiswa.items():\n",
        "    print(f\"{nama}: {nilai}\")\n",
        "rata = sum(nilai_mahasiswa.values()) / len(nilai_mahasiswa)\n",
        "print(f\"Rata-rata nilai: {rata:.2f}\")\n"
      ],
      "metadata": {
        "colab": {
          "base_uri": "https://localhost:8080/"
        },
        "id": "cE0tGBRnqy88",
        "outputId": "1798ef67-72dc-4b62-abe7-cb21154e7202"
      },
      "execution_count": null,
      "outputs": [
        {
          "output_type": "stream",
          "name": "stdout",
          "text": [
            "Andi: 80\n",
            "Budi: 75\n",
            "Cici: 90\n",
            "Rata-rata nilai: 81.67\n"
          ]
        }
      ]
    },
    {
      "cell_type": "markdown",
      "source": [
        "**PENUGASAN**"
      ],
      "metadata": {
        "id": "VH7s00oE5Pej"
      }
    },
    {
      "cell_type": "markdown",
      "source": [
        "Tuple Sederhana"
      ],
      "metadata": {
        "id": "Wi6AN_Yn5QXH"
      }
    },
    {
      "cell_type": "code",
      "source": [
        "mahasiswa = (\"Nama  : Bimo\",\n",
        "             \"Umur  : 19 \",\n",
        "             \"Prodi : Teknik Rekayasa Komputer\"\n",
        "             )\n",
        "print(mahasiswa[0])\n",
        "print(mahasiswa[1])\n",
        "print(mahasiswa[2])"
      ],
      "metadata": {
        "colab": {
          "base_uri": "https://localhost:8080/"
        },
        "id": "tR2Cb9-N5R0H",
        "outputId": "52143d54-52d8-4543-8e60-d36324b07a6f"
      },
      "execution_count": null,
      "outputs": [
        {
          "output_type": "stream",
          "name": "stdout",
          "text": [
            "Nama  : Bimo\n",
            "Umur  : 19 \n",
            "Prodi : Teknik Rekayasa Komputer\n"
          ]
        }
      ]
    },
    {
      "cell_type": "markdown",
      "source": [
        "Tuple Tidak Bisa Diubah"
      ],
      "metadata": {
        "id": "IvBxCKjb5dwp"
      }
    },
    {
      "cell_type": "code",
      "source": [
        "angka = ( 1,2,3 )\n",
        "angka[0] = 10\n",
        "print(angka)"
      ],
      "metadata": {
        "colab": {
          "base_uri": "https://localhost:8080/",
          "height": 176
        },
        "id": "9acmniMf5fw5",
        "outputId": "8f47c2e8-5dc7-4136-8037-e77577abf971"
      },
      "execution_count": null,
      "outputs": [
        {
          "output_type": "error",
          "ename": "TypeError",
          "evalue": "'tuple' object does not support item assignment",
          "traceback": [
            "\u001b[0;31m---------------------------------------------------------------------------\u001b[0m",
            "\u001b[0;31mTypeError\u001b[0m                                 Traceback (most recent call last)",
            "\u001b[0;32m/tmp/ipython-input-1378867159.py\u001b[0m in \u001b[0;36m<cell line: 0>\u001b[0;34m()\u001b[0m\n\u001b[1;32m      1\u001b[0m \u001b[0mangka\u001b[0m \u001b[0;34m=\u001b[0m \u001b[0;34m(\u001b[0m \u001b[0;36m1\u001b[0m\u001b[0;34m,\u001b[0m\u001b[0;36m2\u001b[0m\u001b[0;34m,\u001b[0m\u001b[0;36m3\u001b[0m \u001b[0;34m)\u001b[0m\u001b[0;34m\u001b[0m\u001b[0;34m\u001b[0m\u001b[0m\n\u001b[0;32m----> 2\u001b[0;31m \u001b[0mangka\u001b[0m\u001b[0;34m[\u001b[0m\u001b[0;36m0\u001b[0m\u001b[0;34m]\u001b[0m \u001b[0;34m=\u001b[0m \u001b[0;36m10\u001b[0m\u001b[0;34m\u001b[0m\u001b[0;34m\u001b[0m\u001b[0m\n\u001b[0m\u001b[1;32m      3\u001b[0m \u001b[0mprint\u001b[0m\u001b[0;34m(\u001b[0m\u001b[0mangka\u001b[0m\u001b[0;34m)\u001b[0m\u001b[0;34m\u001b[0m\u001b[0;34m\u001b[0m\u001b[0m\n",
            "\u001b[0;31mTypeError\u001b[0m: 'tuple' object does not support item assignment"
          ]
        }
      ]
    },
    {
      "cell_type": "markdown",
      "source": [
        "Dictionary Dasar"
      ],
      "metadata": {
        "id": "q-db8htz5i3t"
      }
    },
    {
      "cell_type": "code",
      "source": [
        "buku = {\"Judul\": \"Algoritma\",\n",
        "        \"Penulis\": \"Munir\",\n",
        "        \"Tahun\": 2021\n",
        "        }\n",
        "print(\"Judul    : \", buku['Judul'])\n",
        "print(\"Penulis  : \", buku['Penulis'])\n",
        "print(\"Tahun    : \", buku['Tahun'])"
      ],
      "metadata": {
        "colab": {
          "base_uri": "https://localhost:8080/"
        },
        "id": "y753bP_l5k94",
        "outputId": "016e0006-e293-4a7e-e15a-4e8a8eea6a67"
      },
      "execution_count": null,
      "outputs": [
        {
          "output_type": "stream",
          "name": "stdout",
          "text": [
            "Judul    :  Algoritma\n",
            "Penulis  :  Munir\n",
            "Tahun    :  2021\n"
          ]
        }
      ]
    },
    {
      "cell_type": "markdown",
      "source": [
        "Operasi Dictionary"
      ],
      "metadata": {
        "id": "3AN4-CNw5yGY"
      }
    },
    {
      "cell_type": "code",
      "source": [
        "dosen = {\"NIP\": \"12345\", \"Nama\": \"Budi\", \"Prodi\": \"TRK\"}\n",
        "dosen[\"Umur\"] = 40\n",
        "dosen[\"Prodi\"] = \"Teknik Komputer\"\n",
        "del dosen[\"Umur\"]\n",
        "print(dosen)"
      ],
      "metadata": {
        "colab": {
          "base_uri": "https://localhost:8080/"
        },
        "id": "5cM5ocz95zd8",
        "outputId": "793298da-4106-4c50-b348-8b4d325f660d"
      },
      "execution_count": null,
      "outputs": [
        {
          "output_type": "stream",
          "name": "stdout",
          "text": [
            "{'NIP': '12345', 'Nama': 'Budi', 'Prodi': 'Teknik Komputer'}\n"
          ]
        }
      ]
    },
    {
      "cell_type": "markdown",
      "source": [
        "Set dan Himpunan"
      ],
      "metadata": {
        "id": "v83pE7pn57TX"
      }
    },
    {
      "cell_type": "code",
      "source": [
        "A = {\"Matematika\", \"Algoritma\", \"Bahasa Inggris\"}\n",
        "B = {\"Algoritma\", \"Basis Data\", \"Matematika\"}\n",
        "\n",
        "print(\"Union        : \", A | B)\n",
        "print(\"Intersection : \", A & B)\n",
        "print(\"Difference   : \", A - B)"
      ],
      "metadata": {
        "colab": {
          "base_uri": "https://localhost:8080/"
        },
        "id": "9qwthpwy59WG",
        "outputId": "17dae243-a18b-425b-8081-561ab015714a"
      },
      "execution_count": null,
      "outputs": [
        {
          "output_type": "stream",
          "name": "stdout",
          "text": [
            "Union        :  {'Matematika', 'Basis Data', 'Algoritma', 'Bahasa Inggris'}\n",
            "Intersection :  {'Matematika', 'Algoritma'}\n",
            "Difference   :  {'Bahasa Inggris'}\n"
          ]
        }
      ]
    },
    {
      "cell_type": "markdown",
      "source": [
        "Studi Kasus Dictionary"
      ],
      "metadata": {
        "id": "jdB82pbn6CCM"
      }
    },
    {
      "cell_type": "code",
      "source": [
        "nilai_mahasiswa = {\n",
        "    \"Andi\":85,\n",
        "    \"Budi\":90,\n",
        "    \"Cici\":78\n",
        "    }\n",
        "for nama, nilai in nilai_mahasiswa.items():\n",
        "    print(f\"{nama}: {nilai}\")\n",
        "\n",
        "rata = sum(nilai_mahasiswa.values()) / len(nilai_mahasiswa)\n",
        "print(f\"rata-rata nilai: {rata:.2f}\")"
      ],
      "metadata": {
        "colab": {
          "base_uri": "https://localhost:8080/"
        },
        "id": "elrC7SCy6Dn5",
        "outputId": "9c1c157f-e114-4ee4-8df7-a80c9e5f0122"
      },
      "execution_count": null,
      "outputs": [
        {
          "output_type": "stream",
          "name": "stdout",
          "text": [
            "Andi: 85\n",
            "Budi: 90\n",
            "Cici: 78\n",
            "rata-rata nilai: 84.33\n"
          ]
        }
      ]
    },
    {
      "cell_type": "markdown",
      "source": [
        "Studi Kasus Set – Klub Mahasiswa"
      ],
      "metadata": {
        "id": "nsGIKfx06Jqm"
      }
    },
    {
      "cell_type": "code",
      "source": [
        "KlubA = {\"Andi\", \"Budi\", \"Cici\"}\n",
        "KlubB = {\"Cici\", \"Deni\", \"Eka\"}\n",
        "\n",
        "print(\"Daftar nama seluruh anggota Klub A dan B     : \", KlubA | KlubB)\n",
        "print(\"Daftar anggota yang ada di kedua klub        : \", KlubA & KlubB)\n",
        "print(\"Anggota yang ada di Klub A tapi B tidak ada  : \", KlubA - KlubB)"
      ],
      "metadata": {
        "colab": {
          "base_uri": "https://localhost:8080/"
        },
        "id": "6YhcRnUC6KC9",
        "outputId": "7cbc57ff-529a-4a17-f050-65203717e12c"
      },
      "execution_count": null,
      "outputs": [
        {
          "output_type": "stream",
          "name": "stdout",
          "text": [
            "Daftar nama seluruh anggota Klub A dan B     :  {'Deni', 'Cici', 'Andi', 'Eka', 'Budi'}\n",
            "Daftar anggota yang ada di kedua klub        :  {'Cici'}\n",
            "Anggota yang ada di Klub A tapi B tidak ada  :  {'Budi', 'Andi'}\n"
          ]
        }
      ]
    }
  ]
}