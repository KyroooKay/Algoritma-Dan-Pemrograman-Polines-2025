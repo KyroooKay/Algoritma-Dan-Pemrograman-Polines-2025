{
  "nbformat": 4,
  "nbformat_minor": 0,
  "metadata": {
    "colab": {
      "provenance": [],
      "authorship_tag": "ABX9TyPs6ndKQOdYkbhKQ/adxiUg",
      "include_colab_link": true
    },
    "kernelspec": {
      "name": "python3",
      "display_name": "Python 3"
    },
    "language_info": {
      "name": "python"
    }
  },
  "cells": [
    {
      "cell_type": "markdown",
      "metadata": {
        "id": "view-in-github",
        "colab_type": "text"
      },
      "source": [
        "<a href=\"https://colab.research.google.com/github/KyroooKay/Algoritma-Dan-Pemrograman-Polines-2025/blob/praktikum-2/jobsheet_2.ipynb\" target=\"_parent\"><img src=\"https://colab.research.google.com/assets/colab-badge.svg\" alt=\"Open In Colab\"/></a>"
      ]
    },
    {
      "cell_type": "markdown",
      "source": [
        "Praktikum 01"
      ],
      "metadata": {
        "id": "omtYrVREjbO7"
      }
    },
    {
      "cell_type": "code",
      "source": [
        "# Integer\n",
        "umur = 20\n",
        "print(\"Umur:\", umur, \"→\", type(umur))\n",
        "\n",
        "# Float\n",
        "tinggi = 170.5\n",
        "print(\"Tinggi:\", tinggi, \"→\", type(tinggi))\n",
        "\n",
        "# String\n",
        "nama = \"Andi\"\n",
        "print(\"Nama:\", nama, \"→\", type(nama))\n",
        "\n",
        "# Boolean\n",
        "is_mahasiswa = True\n",
        "print(\"Status Mahasiswa:\", is_mahasiswa, \"→\", type(is_mahasiswa))\n",
        "\n",
        "# List\n",
        "nilai = [80, 85, 90]\n",
        "print(\"Nilai:\", nilai, \"→\", type(nilai))\n",
        "\n",
        "# Tuple\n",
        "koordinat = (10, 20)\n",
        "print(\"Koordinat:\", koordinat, \"→\", type(koordinat))\n",
        "\n",
        "# Dictionary\n",
        "mahasiswa = {\"nama\": \"Andi\", \"umur\": 20, \"prodi\": \"TRK\"}\n",
        "print(\"Data Mahasiswa:\", mahasiswa, \"→\", type(mahasiswa))\n",
        "\n",
        "# Set\n",
        "hobi = {\"membaca\", \"olahraga\", \"musik\"}\n",
        "print(\"Hobi:\", hobi, \"→\", type(hobi))"
      ],
      "metadata": {
        "colab": {
          "base_uri": "https://localhost:8080/"
        },
        "id": "xRhPz5ikjmW9",
        "outputId": "86aadf83-e68b-407d-f185-1e08103dfe84"
      },
      "execution_count": null,
      "outputs": [
        {
          "output_type": "stream",
          "name": "stdout",
          "text": [
            "Umur: 20 → <class 'int'>\n",
            "Tinggi: 170.5 → <class 'float'>\n",
            "Nama: Andi → <class 'str'>\n",
            "Status Mahasiswa: True → <class 'bool'>\n",
            "Nilai: [80, 85, 90] → <class 'list'>\n",
            "Koordinat: (10, 20) → <class 'tuple'>\n",
            "Data Mahasiswa: {'nama': 'Andi', 'umur': 20, 'prodi': 'TRK'} → <class 'dict'>\n",
            "Hobi: {'membaca', 'musik', 'olahraga'} → <class 'set'>\n"
          ]
        }
      ]
    },
    {
      "cell_type": "markdown",
      "source": [
        "Praktikum 02 - Input dan Output Dasar"
      ],
      "metadata": {
        "id": "vsybaw4tm01g"
      }
    },
    {
      "cell_type": "code",
      "source": [
        "# Input string\n",
        "nama = input (\"Masukkan nama Anda: \")\n",
        "\n",
        "# Input integer\n",
        "umur = int(input(\"Masukkan umur Anda: \"))\n",
        "\n",
        "# Input float\n",
        "tinggi  = float(input(\"Masukkan tinggi badan (cm): \"))\n",
        "\n",
        "# Output standar\n",
        "print(\"Halo,\", nama,\"umur Anda:\", umur, \"tahun, tinggi:\", tinggi, \"cm\")\n",
        "\n",
        "# Output dengan Format ()\n",
        "print(\"Halo {0}, umur Anda {1} tahun, tinggi {2} cm\" .format(nama, umur, tinggi))\n",
        "\n",
        "# Output dengan f-string\n",
        "print(f\"Halo {nama}, umur Anda {umur} tahun, tinggi {tinggi} cm\")"
      ],
      "metadata": {
        "id": "s9FR9TNLnE6G"
      },
      "execution_count": null,
      "outputs": []
    },
    {
      "cell_type": "markdown",
      "source": [
        "Praktikum 03 - Operator Aritmatika"
      ],
      "metadata": {
        "id": "uIpIJM6knHOW"
      }
    },
    {
      "cell_type": "code",
      "source": [
        "a = 15\n",
        "b = 4\n",
        "\n",
        "print(\"a + b =\", a + b)\n",
        "print(\"a - b =\", a - b)\n",
        "print(\"a * b =\", a * b)\n",
        "print(\"a / b =\", a / b)\n",
        "print( \"a // b =\", a // b)\n",
        "print(\"a % b =\", a % b)\n",
        "print(\"a ** b =\", a ** b)\n",
        "print(\"Hasil program menunjukkan bahwa Phyton mampu melakukan perhitungan dasar dengan operator yang sederhana dan intuitif\")"
      ],
      "metadata": {
        "colab": {
          "base_uri": "https://localhost:8080/"
        },
        "id": "JBswyrvQnKA5",
        "outputId": "af4c8f8c-11cc-4661-efc5-2ea6bf3456dd"
      },
      "execution_count": null,
      "outputs": [
        {
          "output_type": "stream",
          "name": "stdout",
          "text": [
            "a + b = 19\n",
            "a - b = 11\n",
            "a * b = 60\n",
            "a / b = 3.75\n",
            "a // b = 3\n",
            "a % b = 3\n",
            "a ** b = 50625\n",
            "Hasil program menunjukkan bahwa Phyton mampu melakukan perhitungan dasar dengan operator yang sederhana dan intuitif\n"
          ]
        }
      ]
    },
    {
      "cell_type": "markdown",
      "source": [
        "Praktikum 04 - Operator Relasional"
      ],
      "metadata": {
        "id": "If_2anwpna2l"
      }
    },
    {
      "cell_type": "code",
      "source": [
        "x = 10\n",
        "y = 20\n",
        "\n",
        "print (\"x == y :\", x == y)\n",
        "print (\"x != y :\", x != y)\n",
        "print (\"x < y :\", x < y)\n",
        "print (\"x <= y :\", x <= y)\n",
        "print (\"x >= y :\", x >= y)\n",
        "print(\"Dalam kehidupan nyata, operator relasional bisa dipakai untuk mengecek apakah nilai ujian > 60, atau apakah kehadiran mahasiswa memenuhi batas minimal\")"
      ],
      "metadata": {
        "id": "OP1GqFHFncRn"
      },
      "execution_count": null,
      "outputs": []
    },
    {
      "cell_type": "markdown",
      "source": [
        "Praktikum 05 - Operator Logika dengan Studi Kasus Nyata"
      ],
      "metadata": {
        "id": "B8SDNTKcnfj_"
      }
    },
    {
      "cell_type": "code",
      "source": [
        "# Operator logika dasar\n",
        "a = True\n",
        "b = False\n",
        "\n",
        "print(\"a and b  =\", a and b)\n",
        "print(\"a or b   =\", a or b)\n",
        "print(\"not a    =\", not a)\n",
        "\n",
        "# Studi kasus nyata: kelulusan\n",
        "nilai = int (input(\"Masukkan nilai ujian: \"))\n",
        "hadir = int(input(\"Masukkan jumlah kehadiran: \"))\n",
        "\n",
        "lulus_nilai = nilai >= 60\n",
        "lulus_hadir = hadir >= 12 #dari 16 pertemuan\n",
        "\n",
        "if lulus_nilai and lulus_hadir:\n",
        "    print(\"Status: LULUS\")\n",
        "else:\n",
        "    print(\"Status: TIDAK LULUS\")"
      ],
      "metadata": {
        "id": "vG17ZZ88niyi"
      },
      "execution_count": null,
      "outputs": []
    },
    {
      "cell_type": "markdown",
      "source": [
        "Praktikum 06 - Program Kasir Sederhana"
      ],
      "metadata": {
        "id": "Q8ZF7eyqnk_j"
      }
    },
    {
      "cell_type": "code",
      "source": [
        "barang  = input(\"Masukkan nama barang: \")\n",
        "harga   = float(input(\"Masukkan harga barang: \"))\n",
        "jumlah  = int(input(\"Masukkan jumlah barang: \"))\n",
        "\n",
        "total   = harga * jumlah\n",
        "\n",
        "# Aturan diskon\n",
        "if    total >= 500000:\n",
        "      diskon = 0.2\n",
        "elif  total >= 250000:\n",
        "      diskon = 0.1\n",
        "else:\n",
        "      diskon = 0\n",
        "\n",
        "potongan  = total * diskon\n",
        "bayar     = total - potongan\n",
        "\n",
        "print(\"\\n===== Struk Belanja =====\")\n",
        "print(f\"Barang : {barang}\")\n",
        "print(f\"Jumlah : {jumlah}\")\n",
        "print(f\"Total  : Rp {total}\")\n",
        "print(f\"Diskon : {diskon * 100}%\")\n",
        "print(f\"Bayar  : Rp {bayar}\")"
      ],
      "metadata": {
        "id": "MqZWyiu6nmVU"
      },
      "execution_count": null,
      "outputs": []
    },
    {
      "cell_type": "markdown",
      "source": [
        "# **Penugasan**"
      ],
      "metadata": {
        "id": "5RTdSYM8npS0"
      }
    },
    {
      "cell_type": "markdown",
      "source": [
        "**Identitas Mahasiswa**"
      ],
      "metadata": {
        "id": "BddTVif2nrlw"
      }
    },
    {
      "cell_type": "code",
      "source": [
        "# 1. Mengambil Input\n",
        "nama = input(\"Masukkan nama Mahasiswa: \")\n",
        "umur = int(input(\"Masukkan Umur Mahasiswa: \"))\n",
        "tinggi = float(input(\"Masukkan Tinggi Mahasiswa (cm): \"))\n",
        "status_in = input(\"Apakah Mahasiswa aktif? (y/n): \")\n",
        "\n",
        "# 2. Konversi boolean\n",
        "status = \"Aktif\" if status_in.lower() == \"y\" else \"Tidak Aktif\"\n",
        "\n",
        "# 3. Menampilkan output\n",
        "print(\"\\n================================\")\n",
        "print(\"     IDENTITAS MAHASISWA\")\n",
        "print(\"================================\")\n",
        "print(f\"Nama Lengkap : {nama}\")\n",
        "print(f\"Umur         : {umur} tahun\")\n",
        "print(f\"Tinggi Badan : {tinggi} cm\")\n",
        "print(f\"Status       : {status}\")\n",
        "print(\"================================\")\n"
      ],
      "metadata": {
        "colab": {
          "base_uri": "https://localhost:8080/"
        },
        "id": "Q9jKzBkwn1i4",
        "outputId": "42dfc03f-b15e-4909-be13-ad794abcd9c2"
      },
      "execution_count": null,
      "outputs": [
        {
          "output_type": "stream",
          "name": "stdout",
          "text": [
            "Masukkan nama Mahasiswa: Lukman\n",
            "Masukkan Umur Mahasiswa: 19\n",
            "Masukkan Tinggi Mahasiswa (cm): 172\n",
            "Apakah Mahasiswa aktif? (y/n): y\n",
            "\n",
            "================================\n",
            "     IDENTITAS MAHASISWA\n",
            "================================\n",
            "Nama Lengkap : Lukman\n",
            "Umur         : 19 tahun\n",
            "Tinggi Badan : 172.0 cm\n",
            "Status       : Aktif\n",
            "================================\n"
          ]
        }
      ]
    },
    {
      "cell_type": "markdown",
      "source": [
        "**Operasi Aritmatika**"
      ],
      "metadata": {
        "id": "YXdFYlmJpTX-"
      }
    },
    {
      "cell_type": "code",
      "source": [
        "# 1. Mengambil Input\n",
        "a = (int(input(\"Masukkan nilai a: \")))\n",
        "b = (int(input(\"Masukkan nilai b: \")))\n",
        "\n",
        "# 2. Operasi dan output\n",
        "print(a, \"+\", b, \"=\", a + b)\n",
        "print(a, \"-\", b, \"=\", a - b)\n",
        "print(a, \"*\", b, \"=\", a * b)\n",
        "print(a, \"/\", b, \"=\", a / b)\n",
        "print(a, \"//\", b, \"=\", a // b)\n",
        "print(a, \"%\", b, \"=\", a % b)\n",
        "print(a, \"**\", b, \"=\", a ** b)"
      ],
      "metadata": {
        "colab": {
          "base_uri": "https://localhost:8080/"
        },
        "id": "jg_C4Ar4pWJ4",
        "outputId": "d2a8a36d-e335-4871-dc21-b91a5a8fcde3"
      },
      "execution_count": null,
      "outputs": [
        {
          "output_type": "stream",
          "name": "stdout",
          "text": [
            "Masukkan nilai a: 20\n",
            "Masukkan nilai b: 5\n",
            "20 + 5 = 25\n",
            "20 - 5 = 15\n",
            "20 * 5 = 100\n",
            "20 / 5 = 4.0\n",
            "20 // 5 = 4\n",
            "20 % 5 = 0\n",
            "20 ** 5 = 3200000\n"
          ]
        }
      ]
    },
    {
      "cell_type": "markdown",
      "source": [
        "**Konversi Nilai**"
      ],
      "metadata": {
        "id": "FWnBgrfqpzUW"
      }
    },
    {
      "cell_type": "code",
      "source": [
        " # Mengambil Input (float)\n",
        "nilai_float = float(input(\"Masukkan sebuah angka desimal (contoh: 75.836): \"))\n",
        "\n",
        "  # 1. Konversi float ke integer (menghilangkan desimal)\n",
        "nilai_integer = int(nilai_float)\n",
        "\n",
        "  # 2. Konversi float ke string (menjadi teks)\n",
        "nilai_string = str(nilai_float)\n",
        "\n",
        "  # 3. Pembulatan 2 digit di belakang koma\n",
        "nilai_bulat = round(nilai_float, 2)\n",
        "\n",
        "  # Menampilkan semua hasil dengan format yang rapi\n",
        "print(\"\\n---------- HASIL KONVERSI & PEMBULATAN ----------\")\n",
        "print(f\"Nilai Asli (float)      : {nilai_float}\")\n",
        "print(f\"Dikonversi ke Integer   : {nilai_integer}\")\n",
        "print(f\"Dikonversi ke String    : '{nilai_string}'\")\n",
        "print(f\"Dibulatkan (2 desimal)  : {nilai_bulat}\")\n",
        "print(\"-----------------------------------------------\")"
      ],
      "metadata": {
        "colab": {
          "base_uri": "https://localhost:8080/"
        },
        "id": "4wCiQU2Fp07a",
        "outputId": "997f4761-2790-449d-e40f-0b5617ccbfda"
      },
      "execution_count": null,
      "outputs": [
        {
          "output_type": "stream",
          "name": "stdout",
          "text": [
            "Masukkan sebuah angka desimal (contoh: 75.836): 84.8823\n",
            "\n",
            "---------- HASIL KONVERSI & PEMBULATAN ----------\n",
            "Nilai Asli (float)      : 84.8823\n",
            "Dikonversi ke Integer   : 84\n",
            "Dikonversi ke String    : '84.8823'\n",
            "Dibulatkan (2 desimal)  : 84.88\n",
            "-----------------------------------------------\n"
          ]
        }
      ]
    },
    {
      "cell_type": "markdown",
      "source": [
        "*Operator Relasional*"
      ],
      "metadata": {
        "id": "hTZZavn1qInr"
      }
    },
    {
      "cell_type": "code",
      "source": [
        "a = float(input(\"Masukkan nilai a: \"))\n",
        "b = float(input(\"Masukkan nilai b: \"))\n",
        "\n",
        "# 2. Menampilkan hasil perbandingan menggunakan semua operator relasional dengan format f-string\n",
        "print(\"\\n---------- HASIL PERBANDINGAN ----------\")\n",
        "print(f\"{a} == {b} : {a == b}\")\n",
        "print(f\"{a} != {b} : {a != b}\")\n",
        "print(f\"{a} > {b}  : {a > b}\")\n",
        "print(f\"{a} < {b}  : {a < b}\")\n",
        "print(f\"{a} >= {b} : {a >= b}\")\n",
        "print(f\"{a} <= {b} : {a <= b}\")\n",
        "print(\"--------------------------------------\")"
      ],
      "metadata": {
        "colab": {
          "base_uri": "https://localhost:8080/"
        },
        "id": "U-Vngs_LqPMf",
        "outputId": "f19923cb-fd96-4ba8-9f63-768bebc1cd21"
      },
      "execution_count": null,
      "outputs": [
        {
          "output_type": "stream",
          "name": "stdout",
          "text": [
            "Masukkan nilai a: 15\n",
            "Masukkan nilai b: 25\n",
            "\n",
            "---------- HASIL PERBANDINGAN ----------\n",
            "15.0 == 25.0 : False\n",
            "15.0 != 25.0 : True\n",
            "15.0 > 25.0  : False\n",
            "15.0 < 25.0  : True\n",
            "15.0 >= 25.0 : False\n",
            "15.0 <= 25.0 : True\n",
            "--------------------------------------\n"
          ]
        }
      ]
    }
  ]
}