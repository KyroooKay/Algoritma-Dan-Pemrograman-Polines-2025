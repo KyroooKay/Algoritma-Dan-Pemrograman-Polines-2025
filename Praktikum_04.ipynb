{
  "cells": [
    {
      "cell_type": "markdown",
      "metadata": {
        "id": "view-in-github",
        "colab_type": "text"
      },
      "source": [
        "<a href=\"https://colab.research.google.com/github/KyroooKay/Algoritma-Dan-Pemrograman-Polines-2025/blob/praktikum-4/Praktikum_04.ipynb\" target=\"_parent\"><img src=\"https://colab.research.google.com/assets/colab-badge.svg\" alt=\"Open In Colab\"/></a>"
      ]
    },
    {
      "cell_type": "markdown",
      "source": [
        "1 - Perulangan For dengan Range"
      ],
      "metadata": {
        "id": "8-aXxj66DN8n"
      }
    },
    {
      "cell_type": "code",
      "source": [
        "for i in range(1,6):\n",
        "  print (i)"
      ],
      "metadata": {
        "colab": {
          "base_uri": "https://localhost:8080/"
        },
        "id": "e5QFB16iDP6S",
        "outputId": "629455d2-c152-4957-e099-41664b7eaf65"
      },
      "execution_count": 1,
      "outputs": [
        {
          "output_type": "stream",
          "name": "stdout",
          "text": [
            "1\n",
            "2\n",
            "3\n",
            "4\n",
            "5\n"
          ]
        }
      ]
    },
    {
      "cell_type": "markdown",
      "source": [
        " 2 - Perulangan While"
      ],
      "metadata": {
        "id": "Hse-QsBTDSfk"
      }
    },
    {
      "cell_type": "code",
      "source": [
        "n = int(input(\"Masukkan angka = \"))\n",
        "while n > 0:\n",
        "  print (n)\n",
        "  n -= 1"
      ],
      "metadata": {
        "colab": {
          "base_uri": "https://localhost:8080/"
        },
        "id": "LJufoGO7DUVz",
        "outputId": "14b5559c-7bce-453c-9d98-523c711b54a6"
      },
      "execution_count": 3,
      "outputs": [
        {
          "output_type": "stream",
          "name": "stdout",
          "text": [
            "Masukkan angka = 12\n",
            "12\n",
            "11\n",
            "10\n",
            "9\n",
            "8\n",
            "7\n",
            "6\n",
            "5\n",
            "4\n",
            "3\n",
            "2\n",
            "1\n"
          ]
        }
      ]
    },
    {
      "cell_type": "markdown",
      "source": [
        "3 – Nested Loop (Segitiga Bintang)"
      ],
      "metadata": {
        "id": "AImapXqnDV_H"
      }
    },
    {
      "cell_type": "code",
      "source": [
        "for i in range (1,6):\n",
        "  for j in range (i):\n",
        "    print(\"*\", end=\"\")\n",
        "  print()"
      ],
      "metadata": {
        "colab": {
          "base_uri": "https://localhost:8080/"
        },
        "id": "1ObL4kf1DYO2",
        "outputId": "fadbd19d-b173-4c68-94e7-34fde0acf071"
      },
      "execution_count": 2,
      "outputs": [
        {
          "output_type": "stream",
          "name": "stdout",
          "text": [
            "*\n",
            "**\n",
            "***\n",
            "****\n",
            "*****\n"
          ]
        }
      ]
    },
    {
      "cell_type": "markdown",
      "source": [
        "4 – Break dan Continue"
      ],
      "metadata": {
        "id": "IYms7FFEDZwk"
      }
    },
    {
      "cell_type": "code",
      "source": [
        "for i in range (1,11):\n",
        "  if i == 5 :\n",
        "    print (\"Angka 5 ditemukan\")"
      ],
      "metadata": {
        "colab": {
          "base_uri": "https://localhost:8080/"
        },
        "id": "b_fpNx5SDdqf",
        "outputId": "2aa2f0ff-3b7c-4c6d-f98e-9b5389614d48"
      },
      "execution_count": 8,
      "outputs": [
        {
          "output_type": "stream",
          "name": "stdout",
          "text": [
            "Angka 5 ditemukan\n"
          ]
        }
      ]
    },
    {
      "cell_type": "markdown",
      "source": [
        "5 – For pada Dictionary"
      ],
      "metadata": {
        "id": "ZubTlaGSDgvc"
      }
    },
    {
      "cell_type": "code",
      "source": [
        "data = {\"Nama\": \"{Andi}\", \"Umur\":20, \"Prodi\": \"TRK\"}\n",
        "\n",
        "for k,v in data.items():\n",
        "  print (k, \":\", v)"
      ],
      "metadata": {
        "colab": {
          "base_uri": "https://localhost:8080/"
        },
        "id": "OecBHwQFDiBH",
        "outputId": "6dc7c09a-a7bb-44b5-e7dd-b1ebe5e5fb36"
      },
      "execution_count": 7,
      "outputs": [
        {
          "output_type": "stream",
          "name": "stdout",
          "text": [
            "Nama : {Andi}\n",
            "Umur : 20\n",
            "Prodi : TRK\n"
          ]
        }
      ]
    },
    {
      "cell_type": "markdown",
      "source": [
        "6 – For dengan Enumerate"
      ],
      "metadata": {
        "id": "Dps5KX_ZDj6G"
      }
    },
    {
      "cell_type": "code",
      "source": [
        "daftar = [\"Andi\",\"Budi\",\"Cici\"]\n",
        "\n",
        "for i,nama in enumerate(daftar, start=1):\n",
        "  print (i, nama)"
      ],
      "metadata": {
        "colab": {
          "base_uri": "https://localhost:8080/"
        },
        "id": "Y9JlCyblDlZc",
        "outputId": "dd81d07e-76f2-4bf1-df39-7bb9198785c9"
      },
      "execution_count": 6,
      "outputs": [
        {
          "output_type": "stream",
          "name": "stdout",
          "text": [
            "1 Andi\n",
            "2 Budi\n",
            "3 Cici\n"
          ]
        }
      ]
    },
    {
      "cell_type": "markdown",
      "source": [
        "7 – Studi Kasus: Program Kasir Multi-Item"
      ],
      "metadata": {
        "id": "UxKBRRBBDoRd"
      }
    },
    {
      "cell_type": "code",
      "source": [
        "total = 0\n",
        "while True :\n",
        "  b = (str(input(\"Input nama barang (ketik 'selesai' untuk berhenti): \")))\n",
        "  if b.lower() == \"selesai\":\n",
        "    break\n",
        "  harga = (float(input(f\"Input harga {b}: \")))\n",
        "  jumlah = (int(input(f\"Input jumlah {b}: \")))\n",
        "  subtotal = harga * jumlah\n",
        "  total += subtotal\n",
        "  #2 total = total + (harga * jumlah)\n",
        "\n",
        "print (\"\\n========= Struk Belanja =========\")\n",
        "print (f\"Total belanja adalah : Rp {total}\")"
      ],
      "metadata": {
        "colab": {
          "base_uri": "https://localhost:8080/"
        },
        "id": "VUr2Ep0RDrHk",
        "outputId": "43eac2ee-263e-4a97-d164-82e9105bb3e1"
      },
      "execution_count": 5,
      "outputs": [
        {
          "output_type": "stream",
          "name": "stdout",
          "text": [
            "Input nama barang (ketik 'selesai' untuk berhenti): sepatu\n",
            "Input harga sepatu: 2000000\n",
            "Input jumlah sepatu: 1\n",
            "Input nama barang (ketik 'selesai' untuk berhenti): selesai\n",
            "\n",
            "========= Struk Belanja =========\n",
            "Total belanja adalah : Rp 2000000.0\n"
          ]
        }
      ]
    },
    {
      "cell_type": "markdown",
      "source": [
        "**PENUGASAN**"
      ],
      "metadata": {
        "id": "usR4AvuRDtHS"
      }
    },
    {
      "cell_type": "markdown",
      "metadata": {
        "id": "obcL6xTWn9aJ"
      },
      "source": [
        "**Menampilkan Deret Angka**"
      ]
    },
    {
      "cell_type": "code",
      "execution_count": null,
      "metadata": {
        "colab": {
          "base_uri": "https://localhost:8080/"
        },
        "id": "mbBcUHh3oBLj",
        "outputId": "5e1a13cf-579e-4cb7-805d-4e75fb8e9e0a"
      },
      "outputs": [
        {
          "name": "stdout",
          "output_type": "stream",
          "text": [
            "3\n",
            "6\n",
            "9\n",
            "12\n",
            "15\n",
            "18\n",
            "21\n",
            "24\n",
            "27\n",
            "30\n"
          ]
        }
      ],
      "source": [
        "for i in range(3, 31, 3):\n",
        "    print(i)\n"
      ]
    },
    {
      "cell_type": "markdown",
      "metadata": {
        "id": "PEWmPYm5ox9B"
      },
      "source": [
        "**Hitung Faktorial**"
      ]
    },
    {
      "cell_type": "code",
      "execution_count": null,
      "metadata": {
        "colab": {
          "base_uri": "https://localhost:8080/"
        },
        "id": "cEZdHfIho08Q",
        "outputId": "e1cf1c07-ba4f-413b-8a80-d7d9810b0ac0"
      },
      "outputs": [
        {
          "name": "stdout",
          "output_type": "stream",
          "text": [
            "Masukkan sebuah bilangan: 5\n",
            "Faktorial dari 5 adalah 120\n"
          ]
        }
      ],
      "source": [
        "n = int(input(\"Masukkan sebuah bilangan: \"))\n",
        "\n",
        "faktorial = 1\n",
        "i = 1\n",
        "while i <= n:\n",
        "    faktorial *= i\n",
        "    i += 1\n",
        "print(f\"Faktorial dari {n} adalah {faktorial}\")\n"
      ]
    },
    {
      "cell_type": "markdown",
      "metadata": {
        "id": "h6NnUZIyutuZ"
      },
      "source": [
        "**Pola Segitiga Terbalik**"
      ]
    },
    {
      "cell_type": "code",
      "execution_count": null,
      "metadata": {
        "colab": {
          "base_uri": "https://localhost:8080/"
        },
        "id": "ohh-8jEnuup_",
        "outputId": "5be8ca63-7b89-48b7-8fc1-9604b4bf00b7"
      },
      "outputs": [
        {
          "name": "stdout",
          "output_type": "stream",
          "text": [
            "*****\n",
            "****\n",
            "***\n",
            "**\n",
            "*\n"
          ]
        }
      ],
      "source": [
        "tinggi = 5\n",
        "for i in range(tinggi, 0, -1):\n",
        "    for j in range(i):\n",
        "        print(\"*\", end=\"\")\n",
        "    print()\n"
      ]
    },
    {
      "cell_type": "markdown",
      "metadata": {
        "id": "4XxBVEREvGcZ"
      },
      "source": [
        "**Cari Bilangan Prima dengan Break**"
      ]
    },
    {
      "cell_type": "code",
      "execution_count": null,
      "metadata": {
        "colab": {
          "base_uri": "https://localhost:8080/"
        },
        "id": "FgSy6afLvNSQ",
        "outputId": "9191ead3-502a-46cc-afbc-2158ade3d204"
      },
      "outputs": [
        {
          "name": "stdout",
          "output_type": "stream",
          "text": [
            "Masukkan sebuah bilangan: 8\n",
            "8 bukan bilangan prima karena habis dibagi 2.\n"
          ]
        }
      ],
      "source": [
        "bilangan = int(input(\"Masukkan sebuah bilangan: \"))\n",
        "\n",
        "if bilangan > 1:\n",
        "    for i in range(2, bilangan):\n",
        "        if bilangan % i == 0:\n",
        "            print(f\"{bilangan} bukan bilangan prima karena habis dibagi {i}.\")\n",
        "            break\n",
        "    else:\n",
        "        print(f\"{bilangan} adalah bilangan prima.\")\n",
        "else:\n",
        "    print(f\"{bilangan} bukan bilangan prima (bilangan harus lebih besar dari 1).\")\n"
      ]
    },
    {
      "cell_type": "markdown",
      "metadata": {
        "id": "2QdSp_3CzA1W"
      },
      "source": [
        "**Tampilkan Hanya Bilangan Genap dengan Continue**"
      ]
    },
    {
      "cell_type": "code",
      "execution_count": null,
      "metadata": {
        "colab": {
          "base_uri": "https://localhost:8080/"
        },
        "id": "K7oUrdmozJvm",
        "outputId": "368aaa46-3f15-40e5-aba2-d1ac6ceed78d"
      },
      "outputs": [
        {
          "name": "stdout",
          "output_type": "stream",
          "text": [
            "2\n",
            "4\n",
            "6\n",
            "8\n",
            "10\n",
            "12\n",
            "14\n",
            "16\n",
            "18\n",
            "20\n"
          ]
        }
      ],
      "source": [
        "for i in range(1, 21):\n",
        "    if i % 2 != 0:\n",
        "        continue\n",
        "    print(i)\n"
      ]
    },
    {
      "cell_type": "markdown",
      "metadata": {
        "id": "4NIZd_aKzuYu"
      },
      "source": [
        "**Iterasi Dictionary Mahasiswa**"
      ]
    },
    {
      "cell_type": "code",
      "execution_count": null,
      "metadata": {
        "colab": {
          "base_uri": "https://localhost:8080/"
        },
        "id": "79sYyHxhz0kl",
        "outputId": "aa80ec5a-90bc-4b13-dfd5-ed44aaf2cd92"
      },
      "outputs": [
        {
          "name": "stdout",
          "output_type": "stream",
          "text": [
            "Nama : Budi\n",
            "Umur : 21\n",
            "Prodi : Teknik Komputer\n"
          ]
        }
      ],
      "source": [
        "mahasiswa = {\"Nama\": \"Budi\", \"Umur\": 21, \"Prodi\": \"Teknik Komputer\"}\n",
        "\n",
        "for key, value in mahasiswa.items():\n",
        "    print(f\"{key} : {value}\")\n"
      ]
    },
    {
      "cell_type": "markdown",
      "metadata": {
        "id": "sRfkiFzcz3om"
      },
      "source": [
        "**Enumerate Daftar Barang**"
      ]
    },
    {
      "cell_type": "code",
      "execution_count": null,
      "metadata": {
        "colab": {
          "base_uri": "https://localhost:8080/"
        },
        "id": "ghuLr6K9z7EX",
        "outputId": "fa165929-edbe-460e-e7c3-417eb7c94b6a"
      },
      "outputs": [
        {
          "name": "stdout",
          "output_type": "stream",
          "text": [
            "1 Buku\n",
            "2 Pulpen\n",
            "3 Tas\n"
          ]
        }
      ],
      "source": [
        "barang = [\"Buku\", \"Pulpen\", \"Tas\"]\n",
        "for nomor, nama in enumerate(barang, start=1):\n",
        "    print(f\"{nomor} {nama}\")\n"
      ]
    },
    {
      "cell_type": "markdown",
      "metadata": {
        "id": "RIfnjWOs0FhX"
      },
      "source": [
        "**Studi Kasus Kasir Diskon**"
      ]
    },
    {
      "cell_type": "code",
      "execution_count": 11,
      "metadata": {
        "colab": {
          "base_uri": "https://localhost:8080/"
        },
        "id": "hOPnxwwZ0Inv",
        "outputId": "17d75980-25a6-46c9-8803-b62d8b2e22b4"
      },
      "outputs": [
        {
          "output_type": "stream",
          "name": "stdout",
          "text": [
            "=== Program Kasir Sederhana ===\n",
            "Ketik 'selesai' jika sudah selesai berbelanja.\n",
            "\n",
            "Masukkan nama barang: selesai\n",
            "\n",
            "=== STRUK BELANJA ===\n",
            "Total Belanja : Rp0\n",
            "Diskon (10%)  : Rp0\n",
            "Total Bayar   : Rp0\n",
            "=========================\n",
            "Terima kasih telah berbelanja!\n"
          ]
        }
      ],
      "source": [
        "total = 0\n",
        "print(\"=== Program Kasir Sederhana ===\")\n",
        "print(\"Ketik 'selesai' jika sudah selesai berbelanja.\\n\")\n",
        "\n",
        "while True:\n",
        "    nama_barang = input(\"Masukkan nama barang: \")\n",
        "\n",
        "    if nama_barang.lower() == \"selesai\":\n",
        "        break\n",
        "\n",
        "    harga = int(input(f\"Masukkan harga {nama_barang}: \"))\n",
        "    jumlah = int(input(f\"Masukkan jumlah {nama_barang}: \"))\n",
        "\n",
        "    subtotal = harga * jumlah\n",
        "    total += subtotal\n",
        "\n",
        "    print(f\"Subtotal {nama_barang}: Rp{subtotal:,}\\n\")\n",
        "\n",
        "if total >= 200000:\n",
        "    diskon = total * 0.10\n",
        "else:\n",
        "    diskon = 0\n",
        "\n",
        "total_bayar = total - diskon\n",
        "print(\"\\n=== STRUK BELANJA ===\")\n",
        "print(f\"Total Belanja : Rp{total:,}\")\n",
        "print(f\"Diskon (10%)  : Rp{diskon:,}\")\n",
        "print(f\"Total Bayar   : Rp{total_bayar:,}\")\n",
        "print(\"=========================\")\n",
        "print(\"Terima kasih telah berbelanja!\")\n"
      ]
    }
  ],
  "metadata": {
    "colab": {
      "provenance": [],
      "authorship_tag": "ABX9TyNV+0NTJwDk66DejUKOKBBo",
      "include_colab_link": true
    },
    "kernelspec": {
      "display_name": "Python 3",
      "name": "python3"
    },
    "language_info": {
      "name": "python"
    }
  },
  "nbformat": 4,
  "nbformat_minor": 0
}